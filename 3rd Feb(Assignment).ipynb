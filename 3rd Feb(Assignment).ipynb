{
 "cells": [
  {
   "cell_type": "markdown",
   "id": "f1d5b57c-ee26-418b-8789-6ff007dd8f34",
   "metadata": {},
   "source": [
    "1. . Which keyword is used to create a function? Create a function to return a list of odd numbers in the \n",
    "range of 1 to 25."
   ]
  },
  {
   "cell_type": "markdown",
   "id": "0fba8662-02a1-482b-83cb-0957ccb7d9f9",
   "metadata": {},
   "source": [
    "=> The keyword used to create a function is \"def\" in Python.\n",
    "\n",
    "Here's an example function to return a list of odd numbers in the range of 1 to 25:"
   ]
  },
  {
   "cell_type": "code",
   "execution_count": 1,
   "id": "265431ec-01c0-4685-8990-9498f16c84b0",
   "metadata": {},
   "outputs": [],
   "source": [
    "def odd_nos():\n",
    "    return[i for i in range(1,25) if i%2!=0]"
   ]
  },
  {
   "cell_type": "code",
   "execution_count": 3,
   "id": "2ac38000-4b3b-48ad-a7e4-72d6010ad213",
   "metadata": {},
   "outputs": [
    {
     "name": "stdout",
     "output_type": "stream",
     "text": [
      "[1, 3, 5, 7, 9, 11, 13, 15, 17, 19, 21, 23]\n"
     ]
    }
   ],
   "source": [
    "print(odd_nos())"
   ]
  },
  {
   "cell_type": "markdown",
   "id": "c99ddc72-ee0d-4dc5-8013-b89249542698",
   "metadata": {},
   "source": [
    "2. Why *args and **kwargs is used in some functions? Create a function each for *args and **kwargs to demonstrate their use."
   ]
  },
  {
   "cell_type": "markdown",
   "id": "9dab3398-4b57-485d-ba98-c0b63634347f",
   "metadata": {},
   "source": [
    "=>*args and **kwargs are used in Python functions to accept a variable number of arguments.\n",
    "\n",
    "*args is used to pass a variable number of non-keyword arguments to a function, while **kwargs is used to pass a variable number of keyword arguments.\n",
    "\n",
    "Here are example functions to demonstrate their use:\n",
    "\n",
    "Example using *args:"
   ]
  },
  {
   "cell_type": "code",
   "execution_count": 4,
   "id": "1a9b8dc3-63e6-4a32-8940-4cae51cce18b",
   "metadata": {},
   "outputs": [],
   "source": [
    "def sum_numbers(*args):\n",
    "    result = 0\n",
    "    for num in args:\n",
    "        result += num\n",
    "    return result"
   ]
  },
  {
   "cell_type": "code",
   "execution_count": 5,
   "id": "10986908-1e98-4e45-aeba-1d2b5c4a42e2",
   "metadata": {},
   "outputs": [
    {
     "name": "stdout",
     "output_type": "stream",
     "text": [
      "55\n"
     ]
    }
   ],
   "source": [
    "print(sum_numbers(1,2,3,4,5,6,7,8,9,10))"
   ]
  },
  {
   "cell_type": "code",
   "execution_count": 6,
   "id": "a06c8e57-6d88-4055-8449-52cef54be96f",
   "metadata": {},
   "outputs": [],
   "source": [
    "def print_info(**kwargs):\n",
    "    for key, value in kwargs.items():\n",
    "        print(f\"{key}: {value}\")"
   ]
  },
  {
   "cell_type": "code",
   "execution_count": 8,
   "id": "c8836590-949e-41d1-a33a-d87b0ab13a5c",
   "metadata": {},
   "outputs": [
    {
     "name": "stdout",
     "output_type": "stream",
     "text": [
      "name: Mohit\n",
      "age: 25\n",
      "city: Surat\n"
     ]
    }
   ],
   "source": [
    "print_info(name=\"Mohit\", age=25, city=\"Surat\") "
   ]
  },
  {
   "cell_type": "markdown",
   "id": "d0644cb8-0afa-48bf-bf92-17df54d41614",
   "metadata": {},
   "source": [
    "3. What is an iterator in python? Name the method used to initialise the iterator object and the method used for iteration. Use these methods to print the first five elements of the given list [2, 4, 6, 8, 10, 12, 14,16, 18, 20]"
   ]
  },
  {
   "cell_type": "markdown",
   "id": "feaa43c6-3425-4200-aaf0-615d1825db9a",
   "metadata": {},
   "source": [
    "In Python, an iterator is an object that enables us to traverse a sequence and access its elements one by one. It allows us to loop through a collection of items, such as a list or a string, and perform some operation on each item.\n",
    "\n",
    "In order to initialize an iterator object, we use the iter() method. The next() method is used to retrieve the next element from the iterator. When there are no more elements, the next() method raises the StopIteration exception.\n",
    "\n",
    "Here's an example code to print the first five elements of the list [2, 4, 6, 8, 10, 12, 14, 16, 18, 20] using an iterator:"
   ]
  },
  {
   "cell_type": "code",
   "execution_count": 9,
   "id": "b78ade9e-7015-48ef-b98d-797b2f80f7cf",
   "metadata": {},
   "outputs": [
    {
     "name": "stdout",
     "output_type": "stream",
     "text": [
      "2\n",
      "4\n",
      "6\n",
      "8\n",
      "10\n"
     ]
    }
   ],
   "source": [
    "l1=[2,4,6,8,10,12,14,16,18,20]\n",
    "iter1=iter(l1)\n",
    "for i in range(5):\n",
    "    print(next(iter1))"
   ]
  },
  {
   "cell_type": "markdown",
   "id": "8e914dac-41b8-45af-b249-cc0eed392f31",
   "metadata": {},
   "source": [
    "4.   What is a generator function in python? Why yield keyword is used? Give an example of a generator function"
   ]
  },
  {
   "cell_type": "markdown",
   "id": "4c5a8d4a-bfc4-4b45-9cf3-de7f60af6b31",
   "metadata": {},
   "source": [
    "=> In Python, a generator function is a type of function that uses the yield keyword to return an iterator object. Instead of returning a value and terminating, a generator function yields a sequence of values to the calling program, and then picks up where it left off the next time the next() method is called on the generator object.\n",
    "\n",
    "The yield keyword is used in a generator function to temporarily suspend the function's execution and return a value to the calling program. When the next() method is called on the generator object, the generator function picks up where it left off, continuing execution from the point where it last yielded a value.\n",
    "\n",
    "Here's an example of a generator function that generates a sequence of even numbers up to a specified limit:"
   ]
  },
  {
   "cell_type": "code",
   "execution_count": 10,
   "id": "dadfb352-5dba-45d3-a4ac-12998699cf77",
   "metadata": {},
   "outputs": [],
   "source": [
    "def even_numbers(limit):\n",
    "    num = 0\n",
    "    while num < limit:\n",
    "        yield num\n",
    "        num += 2"
   ]
  },
  {
   "cell_type": "markdown",
   "id": "ad181cf0-ad4b-4a94-abd5-b92e11976ea7",
   "metadata": {},
   "source": [
    "In this example, the even_numbers() function generates a sequence of even numbers up to the limit parameter.\n",
    "The yield keyword is used to return the next even number in the sequence, and execution of the function is temporarily\n",
    "suspended until the next call to next() on the generator object.\n",
    "\n",
    "We can use this generator function to generate a sequence of even numbers and print them to the console, like so:"
   ]
  },
  {
   "cell_type": "code",
   "execution_count": 15,
   "id": "421c8df1-ab4d-4ba4-833a-0e0e25cf7bd8",
   "metadata": {},
   "outputs": [],
   "source": [
    "gen=even_numbers(10)"
   ]
  },
  {
   "cell_type": "code",
   "execution_count": 16,
   "id": "5d2a35bf-6995-4034-ab62-bae6438e17a0",
   "metadata": {},
   "outputs": [
    {
     "name": "stdout",
     "output_type": "stream",
     "text": [
      "0\n"
     ]
    }
   ],
   "source": [
    "print(next(gen))"
   ]
  },
  {
   "cell_type": "code",
   "execution_count": 17,
   "id": "59dda069-4e62-4f0f-859e-716a19d2217c",
   "metadata": {},
   "outputs": [
    {
     "name": "stdout",
     "output_type": "stream",
     "text": [
      "2\n"
     ]
    }
   ],
   "source": [
    "print(next(gen))"
   ]
  },
  {
   "cell_type": "code",
   "execution_count": 18,
   "id": "6be3ae1a-275b-463e-81f1-fc008b86a6ed",
   "metadata": {},
   "outputs": [
    {
     "name": "stdout",
     "output_type": "stream",
     "text": [
      "4\n"
     ]
    }
   ],
   "source": [
    "print(next(gen))"
   ]
  },
  {
   "cell_type": "code",
   "execution_count": 19,
   "id": "d668ca19-9d19-476b-9d50-3bfdc071c18d",
   "metadata": {},
   "outputs": [
    {
     "name": "stdout",
     "output_type": "stream",
     "text": [
      "6\n"
     ]
    }
   ],
   "source": [
    "print(next(gen))"
   ]
  },
  {
   "cell_type": "code",
   "execution_count": 20,
   "id": "66d51b24-397d-4313-b3c3-83a111f5e322",
   "metadata": {},
   "outputs": [
    {
     "name": "stdout",
     "output_type": "stream",
     "text": [
      "8\n"
     ]
    }
   ],
   "source": [
    "print(next(gen))"
   ]
  },
  {
   "cell_type": "markdown",
   "id": "0b5c5a4f-0681-46c1-b436-0aa49245dbec",
   "metadata": {},
   "source": [
    "5. Create a generator function for prime numbers less than 1000. Use the next() method to print the first 20 prime numbers."
   ]
  },
  {
   "cell_type": "markdown",
   "id": "4d42baba-dba3-4e64-a880-2e782c6e1f1d",
   "metadata": {},
   "source": [
    "=> Here's an example generator function that generates prime numbers less than 1000:"
   ]
  },
  {
   "cell_type": "code",
   "execution_count": 28,
   "id": "f73129ee-30b5-46f9-8fa9-2a7335a93dfc",
   "metadata": {},
   "outputs": [],
   "source": [
    "def primes():\n",
    "    yield 2\n",
    "    primes_list = [2]\n",
    "    num = 3\n",
    "    while num<1000:\n",
    "        is_prime=True\n",
    "        for prime in primes_list:\n",
    "            if num%prime==0:\n",
    "                is_prime=False\n",
    "                break\n",
    "        if is_prime:\n",
    "            primes_list.append(num)\n",
    "            yield num\n",
    "        num+=2"
   ]
  },
  {
   "cell_type": "markdown",
   "id": "5b5d8545-c10b-402f-8db9-be0e959e1cd7",
   "metadata": {},
   "source": [
    "And here's how you can use the next() method to print the first 20 prime numbers:"
   ]
  },
  {
   "cell_type": "code",
   "execution_count": 29,
   "id": "6502fd5a-8b08-4a2f-82ef-ea1add1ae8d6",
   "metadata": {},
   "outputs": [
    {
     "name": "stdout",
     "output_type": "stream",
     "text": [
      "2\n",
      "3\n",
      "5\n",
      "7\n",
      "11\n",
      "13\n",
      "17\n",
      "19\n",
      "23\n",
      "29\n",
      "31\n",
      "37\n",
      "41\n",
      "43\n",
      "47\n",
      "53\n",
      "59\n",
      "61\n",
      "67\n",
      "71\n"
     ]
    }
   ],
   "source": [
    "prime_generator=primes()\n",
    "for i in range(20):\n",
    "    print(next(prime_generator))"
   ]
  },
  {
   "cell_type": "markdown",
   "id": "4f2dca36-5fca-44a2-8320-cb644b8efdbe",
   "metadata": {},
   "source": [
    "6.  Write a python program to print the first 10 Fibonacci numbers using a while loop."
   ]
  },
  {
   "cell_type": "code",
   "execution_count": 33,
   "id": "c0ee5f9a-e489-4c17-b335-9035f10b2d9d",
   "metadata": {},
   "outputs": [
    {
     "name": "stdout",
     "output_type": "stream",
     "text": [
      "0 1 1 2 3 5 8 13 21 34 "
     ]
    }
   ],
   "source": [
    "a=0\n",
    "b=1\n",
    "i=1\n",
    "while(i<=10):\n",
    "    print(a,end=\" \")\n",
    "    c=a+b\n",
    "    a=b\n",
    "    b=c\n",
    "    i+=1"
   ]
  },
  {
   "cell_type": "markdown",
   "id": "e54df855-938b-4a6b-9ab6-a4e6a6cca866",
   "metadata": {},
   "source": [
    "7. Write a List Comprehension to iterate through the given string: ‘pwskills’.\n",
    "Expected output: ['p', 'w', 's', 'k', 'i', 'l', 'l', 's']"
   ]
  },
  {
   "cell_type": "code",
   "execution_count": 38,
   "id": "dd00b925-2548-43b4-95f4-00a2bbbfe288",
   "metadata": {},
   "outputs": [
    {
     "name": "stdout",
     "output_type": "stream",
     "text": [
      "['p', 'w', 's', 'k', 'i', 'l', 'l', 's']\n"
     ]
    }
   ],
   "source": [
    "print([string[i] for i in range(len('pwskills'))])"
   ]
  },
  {
   "cell_type": "markdown",
   "id": "c2bb969b-1c39-49dc-adbe-6eaa5014564f",
   "metadata": {},
   "source": [
    "8. Write a python program to check whether a given number is Palindrome or not using a while loop"
   ]
  },
  {
   "cell_type": "code",
   "execution_count": 39,
   "id": "44b99c31-014c-4701-9628-783510edbd00",
   "metadata": {},
   "outputs": [
    {
     "name": "stdin",
     "output_type": "stream",
     "text": [
      "Enter a number:  121\n"
     ]
    },
    {
     "name": "stdout",
     "output_type": "stream",
     "text": [
      "The number  121  is a Palindrome\n"
     ]
    }
   ],
   "source": [
    "num = int(input(\"Enter a number: \"))  \n",
    "rev = 0\n",
    "temp = num\n",
    "while temp > 0:\n",
    "    digit = temp % 10\n",
    "    rev = rev * 10 + digit\n",
    "    temp //= 10\n",
    "if num == rev:\n",
    "    print(\"The number \",num,\" is a Palindrome\")\n",
    "else:\n",
    "    print(\"The number \",num,\" is not a Palindrome\")"
   ]
  },
  {
   "cell_type": "markdown",
   "id": "638046de-f328-4cdc-bde0-a2aba645e028",
   "metadata": {},
   "source": [
    "9. Write a code to print odd numbers from 1 to 100 using list comprehension."
   ]
  },
  {
   "cell_type": "code",
   "execution_count": 41,
   "id": "8eb6e588-bf44-4524-92ee-edfb1273d33f",
   "metadata": {},
   "outputs": [],
   "source": [
    "no=[n for n in range(1,100)]"
   ]
  },
  {
   "cell_type": "code",
   "execution_count": 43,
   "id": "7c37f6a4-c64c-47cf-931d-20d038229299",
   "metadata": {},
   "outputs": [
    {
     "name": "stdout",
     "output_type": "stream",
     "text": [
      "[1, 2, 3, 4, 5, 6, 7, 8, 9, 10, 11, 12, 13, 14, 15, 16, 17, 18, 19, 20, 21, 22, 23, 24, 25, 26, 27, 28, 29, 30, 31, 32, 33, 34, 35, 36, 37, 38, 39, 40, 41, 42, 43, 44, 45, 46, 47, 48, 49, 50, 51, 52, 53, 54, 55, 56, 57, 58, 59, 60, 61, 62, 63, 64, 65, 66, 67, 68, 69, 70, 71, 72, 73, 74, 75, 76, 77, 78, 79, 80, 81, 82, 83, 84, 85, 86, 87, 88, 89, 90, 91, 92, 93, 94, 95, 96, 97, 98, 99]\n"
     ]
    }
   ],
   "source": [
    "print(no)"
   ]
  },
  {
   "cell_type": "code",
   "execution_count": 44,
   "id": "b924f6ae-8d7b-4b41-ad08-04c8f144b33f",
   "metadata": {},
   "outputs": [],
   "source": [
    "odd_no=[n for n in range(1,100) if n%2!=0]"
   ]
  },
  {
   "cell_type": "code",
   "execution_count": 45,
   "id": "1c0ec3c3-5033-40ce-b2c9-04b37b624593",
   "metadata": {},
   "outputs": [
    {
     "name": "stdout",
     "output_type": "stream",
     "text": [
      "[1, 3, 5, 7, 9, 11, 13, 15, 17, 19, 21, 23, 25, 27, 29, 31, 33, 35, 37, 39, 41, 43, 45, 47, 49, 51, 53, 55, 57, 59, 61, 63, 65, 67, 69, 71, 73, 75, 77, 79, 81, 83, 85, 87, 89, 91, 93, 95, 97, 99]\n"
     ]
    }
   ],
   "source": [
    "print(odd_no)"
   ]
  },
  {
   "cell_type": "code",
   "execution_count": null,
   "id": "cf4fa81f-3d9f-49b1-82b3-940e908ec479",
   "metadata": {},
   "outputs": [],
   "source": []
  }
 ],
 "metadata": {
  "kernelspec": {
   "display_name": "Python 3 (ipykernel)",
   "language": "python",
   "name": "python3"
  },
  "language_info": {
   "codemirror_mode": {
    "name": "ipython",
    "version": 3
   },
   "file_extension": ".py",
   "mimetype": "text/x-python",
   "name": "python",
   "nbconvert_exporter": "python",
   "pygments_lexer": "ipython3",
   "version": "3.10.8"
  }
 },
 "nbformat": 4,
 "nbformat_minor": 5
}
