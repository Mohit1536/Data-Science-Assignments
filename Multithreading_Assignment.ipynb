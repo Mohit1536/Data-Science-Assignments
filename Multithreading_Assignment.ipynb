{
 "cells": [
  {
   "cell_type": "markdown",
   "id": "355074c1-7e3c-4216-9ada-a1a09114bd96",
   "metadata": {},
   "source": [
    "1. What is multithreading in python? hy is it used? Name the module used to handle threads in python"
   ]
  },
  {
   "cell_type": "markdown",
   "id": "a21c516d-c533-40f8-a441-87f8acd30732",
   "metadata": {},
   "source": [
    "Multithreading is a way of achieving concurrency in Python by allowing multiple threads to execute within the same process. A thread is a lightweight sub-process that runs independently of the main program and shares the same memory space.\n",
    "\n",
    "Multithreading is used to achieve parallelism in programs where different parts of the code can be executed simultaneously, improving performance and reducing the overall execution time. It can also help to manage I/O operations and improve the responsiveness of a program.\n",
    "\n",
    "The threading module in Python is used to handle threads. It provides a simple way to create and manage threads in a Python program. The module provides a Thread class that can be used to create new threads, and also includes functions for working with locks, semaphores, and other synchronization primitives to help manage access to shared resources in a multithreaded program."
   ]
  },
  {
   "cell_type": "markdown",
   "id": "09fe2e5e-cff9-4012-968f-60611ac0f88e",
   "metadata": {},
   "source": [
    "2. Why threading module used? rite the use of the following functions:\n",
    "    \n",
    "a. activeCount()\n",
    "b. currentThread()\n",
    "c. enumerate()"
   ]
  },
  {
   "cell_type": "markdown",
   "id": "ef421ff3-8829-4f72-9a5b-fc15045f6a83",
   "metadata": {},
   "source": [
    "The threading module in Python is used to implement threads for concurrent execution of tasks. Here is the use of the following functions in the threading module:\n",
    "\n",
    "a. activeCount(): This function returns the number of thread objects that are active at any given time.\n",
    "\n",
    "b. currentThread(): This function returns a reference to the thread object that is currently executing the function call.\n",
    "\n",
    "c. enumerate(): This function returns a list of all active thread objects in the current process. The list includes the main thread as well as any other threads that have been started. This function is often used for debugging purposes, to see which threads are currently running and to gather information about them."
   ]
  },
  {
   "cell_type": "markdown",
   "id": "cbd50ba1-c811-49e9-bf00-7e86935a9f87",
   "metadata": {},
   "source": [
    "3. Explain the following functions:\n",
    "a. run()\n",
    "b. start()\n",
    "c. join()\n",
    "d. isAlive()"
   ]
  },
  {
   "cell_type": "markdown",
   "id": "cf95832c-2cfd-492b-8da4-613aad473c78",
   "metadata": {},
   "source": [
    "The following are the explanations of the functions in the Python threading module:\n",
    "\n",
    "a. run(): This method is the entry point for a thread. It defines the activity that the thread will execute when it is started. This method should be overridden by a subclass of the Thread class.\n",
    "\n",
    "b. start(): This method starts a new thread by invoking the run() method. When start() is called, a new thread is created and its run() method is called in a separate thread of control.\n",
    "\n",
    "c. join(): This method is used to block the calling thread until the thread that is being joined completes. If the thread being joined has already completed, then this method returns immediately.\n",
    "\n",
    "d. isAlive(): This method returns True if the thread is still executing and has not finished, and False otherwise. It can be used to check whether a thread has finished or not."
   ]
  },
  {
   "cell_type": "markdown",
   "id": "a7d4442c-0f52-41fb-ab25-c814fce6c13f",
   "metadata": {},
   "source": [
    "4. Write a python program to create two threads. Thread one must print the list of squares and thread two must print the list of cubes"
   ]
  },
  {
   "cell_type": "code",
   "execution_count": 2,
   "id": "532f6e9e-3602-4b6d-bfba-9b407bc1a370",
   "metadata": {},
   "outputs": [
    {
     "name": "stdout",
     "output_type": "stream",
     "text": [
      "List of Squares: [1, 4, 9, 16, 25, 36, 49, 64, 81, 100]\n",
      "List of Cubes: [1, 8, 27, 64, 125, 216, 343, 512, 729, 1000]\n",
      "Threads have completed!\n"
     ]
    }
   ],
   "source": [
    "import threading\n",
    "\n",
    "def print_squares():\n",
    "    squares = [num**2 for num in range(1, 11)]\n",
    "    print(\"List of Squares:\", squares)\n",
    "\n",
    "def print_cubes():\n",
    "    cubes = [num**3 for num in range(1, 11)]\n",
    "    print(\"List of Cubes:\", cubes)\n",
    "\n",
    "t1 = threading.Thread(target=print_squares)\n",
    "t2 = threading.Thread(target=print_cubes)\n",
    "\n",
    "t1.start()\n",
    "t2.start()\n",
    "\n",
    "t1.join()\n",
    "t2.join()\n",
    "\n",
    "print(\"Threads have completed!\")"
   ]
  },
  {
   "cell_type": "markdown",
   "id": "b88a118c-2a4f-461a-90ea-060fb19f9ada",
   "metadata": {},
   "source": [
    "5. State advantages and disadvantages of multithreading"
   ]
  },
  {
   "cell_type": "markdown",
   "id": "e36ce955-3e31-4f80-94ae-317c6344a563",
   "metadata": {},
   "source": [
    "Advantages of Multithreading:\n",
    "\n",
    "1. Efficiency: Multithreading helps to improve the efficiency of a program as it allows different parts of the program to be executed simultaneously, which reduces the overall execution time.\n",
    "2. Responsiveness: Multithreading helps to improve the responsiveness of an application by allowing it to respond to user input while running time-consuming tasks in the background.\n",
    "3. Resource Sharing: Multithreading allows multiple threads to share the same resources, such as memory, files, and network connections, which can lead to efficient resource utilization.\n",
    "4. Modular Programming: Multithreading helps to write modular programs, which are easier to design, implement, and maintain.\n",
    "\n",
    "Disadvantages of Multithreading:\n",
    "\n",
    "1. Complexity: Multithreaded programming is more complex than single-threaded programming. It requires careful synchronization between threads to ensure that they do not access the same resource simultaneously, which can cause race conditions and other synchronization issues.\n",
    "2. Overhead: Multithreading introduces overhead in terms of memory and processing power as each thread requires its own stack and context switch.\n",
    "3. Deadlocks: Multithreading can lead to deadlocks, which occur when two or more threads are waiting for each other to release a resource, which can cause the program to become unresponsive.\n",
    "4. Debugging: Multithreaded programs are harder to debug as issues may occur sporadically, making it difficult to reproduce and isolate the issue."
   ]
  },
  {
   "cell_type": "markdown",
   "id": "70a5865b-13ca-48e3-9f07-cbf51608a198",
   "metadata": {},
   "source": [
    "6. Explain deadlocks and race conditions."
   ]
  },
  {
   "cell_type": "markdown",
   "id": "c62c7e4d-e525-4ea0-b641-12ebde0c702b",
   "metadata": {},
   "source": [
    "Deadlocks and race conditions are common issues that occur in multithreaded programs.\n",
    "\n",
    "Deadlock occurs when two or more threads are waiting for each other to release a resource, but none of them release the resource, which results in a state of \"deadlock\" or \"infinite waiting.\" In other words, a deadlock occurs when two or more threads are stuck waiting for each other to release a resource. Deadlocks are a major problem in multithreaded programming, and they can cause the program to become unresponsive and lead to a system crash.\n",
    "\n",
    "Race condition, on the other hand, occurs when two or more threads access a shared resource simultaneously and try to modify it at the same time, resulting in unpredictable behavior. In other words, a race condition occurs when the outcome of a program depends on the order in which threads execute, and it is difficult to predict which thread will execute first. Race conditions can cause data inconsistencies and other synchronization issues in the program.\n",
    "\n",
    "Both of these issues can be avoided by careful design and proper synchronization between threads. In the case of deadlocks, it is important to ensure that threads do not wait indefinitely for each other to release a resource, and in the case of race conditions, it is important to ensure that threads access shared resources in a synchronized manner to avoid conflicts."
   ]
  }
 ],
 "metadata": {
  "kernelspec": {
   "display_name": "Python 3 (ipykernel)",
   "language": "python",
   "name": "python3"
  },
  "language_info": {
   "codemirror_mode": {
    "name": "ipython",
    "version": 3
   },
   "file_extension": ".py",
   "mimetype": "text/x-python",
   "name": "python",
   "nbconvert_exporter": "python",
   "pygments_lexer": "ipython3",
   "version": "3.10.8"
  }
 },
 "nbformat": 4,
 "nbformat_minor": 5
}
