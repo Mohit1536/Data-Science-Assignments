{
 "cells": [
  {
   "cell_type": "markdown",
   "id": "c21048d6-0d87-4b4f-bf81-d9f4b9202a1d",
   "metadata": {},
   "source": [
    "1. Explain Class and Object with respect to Object-Oriented Programming. Give a suitable example."
   ]
  },
  {
   "cell_type": "markdown",
   "id": "1ad57e4b-2982-4373-a629-58bd5bcb9bfb",
   "metadata": {},
   "source": [
    "In object-oriented programming, a class is a blueprint or a template for creating objects. It defines the properties and behavior that objects of that class will have. An object, on the other hand, is an instance of a class. It represents a specific occurrence of the class with its own unique properties and behavior.\n",
    "\n",
    "For example, consider a class called \"Car\" that defines the properties and behavior of a car. The Car class might have properties such as \"make\", \"model\", \"year\", and \"color\", and methods such as \"start\", \"accelerate\", and \"stop\". An object of the Car class would be an actual car with specific values for each property, and the ability to perform each method.\n",
    "\n",
    "So, if we create two instances of the Car class, each will have its own unique properties and behavior. One car might be a red 2022 Toyota Corolla that can accelerate from 0 to 60 mph in 8 seconds, while another car might be a blue 2023 Honda Civic that can accelerate from 0 to 60 mph in 7 seconds. Both of these cars are objects of the Car class, with their own unique properties and behavior."
   ]
  },
  {
   "cell_type": "markdown",
   "id": "6108ddef-9053-46c9-a630-529104962ff2",
   "metadata": {},
   "source": [
    "2. Name the four pillars of OOPs."
   ]
  },
  {
   "cell_type": "markdown",
   "id": "abdb29d1-8003-4d0d-9721-86b63a10849f",
   "metadata": {},
   "source": [
    "The four pillars of Object-Oriented Programming (OOPs) are:\n",
    "\n",
    "Encapsulation: It is a mechanism of bundling the data and methods that operate on that data, and restricting access to the inner workings of the object. This helps to achieve data hiding, and protects the object from unwanted interference or modification.\n",
    "\n",
    "Abstraction: It refers to the process of hiding the complexity of the system and providing a simplified interface to the users. It allows the user to interact with the system at a high level without having to understand the underlying implementation.\n",
    "\n",
    "Inheritance: It is a mechanism of creating a new class from an existing class. The new class inherits the properties and methods of the existing class and can also add new properties and methods to it. It allows for code reuse and promotes a hierarchical organization of classes.\n",
    "\n",
    "Polymorphism: It is the ability of an object to take on many forms. In OOPs, it refers to the ability of an object to have multiple behaviors or forms. Polymorphism allows objects of different classes to be treated as if they are of the same class, and enables the implementation of functions that can be applied to objects of different types."
   ]
  },
  {
   "cell_type": "markdown",
   "id": "9ecdd35f-5515-4a3b-98b9-2f35255dde20",
   "metadata": {},
   "source": [
    "3. Explain why the __init__() function is used. Give a suitable example."
   ]
  },
  {
   "cell_type": "markdown",
   "id": "3fd03578-e4f5-4545-91a0-e0e20d06137d",
   "metadata": {},
   "source": [
    "In object-oriented programming, the __init__() function (also known as the constructor) is a special method that is called when an object is created. It is used to initialize the properties of the object with default or user-defined values.\n",
    "\n",
    "The __init__() function is called automatically when an object is created and is passed the self parameter, which refers to the newly created object. Other parameters can also be passed to the __init__() function as needed.\n",
    "\n",
    "For example, consider a class called \"Person\" that represents a person with a name and an age. Here's an example of how the __init__() function can be used to initialize the properties of the object:"
   ]
  },
  {
   "cell_type": "code",
   "execution_count": 1,
   "id": "81baa348-0f98-431d-b961-31834a0eaa36",
   "metadata": {},
   "outputs": [],
   "source": [
    "class Person:\n",
    "    def __init__(self, name, age):\n",
    "        self.name = name\n",
    "        self.age = age"
   ]
  },
  {
   "cell_type": "markdown",
   "id": "c2725df3-7ee2-47f6-b31a-65e67347f252",
   "metadata": {},
   "source": [
    "In this example, the __init__() function takes two parameters, name and age. It initializes the name and age properties of the object with the values passed to the function.\n",
    "\n",
    "Now, if we create an object of the Person class, like this:"
   ]
  },
  {
   "cell_type": "code",
   "execution_count": 2,
   "id": "a611625e-6082-4a52-97bc-5c984b5fcc0b",
   "metadata": {},
   "outputs": [],
   "source": [
    "person1 = Person(\"John\", 25)"
   ]
  },
  {
   "cell_type": "markdown",
   "id": "e264821f-3136-413a-a51a-3854f031ea1f",
   "metadata": {},
   "source": [
    "The __init__() function will be called automatically, and the name and age properties of the person1 object will be initialized with the values \"John\" and 25, respectively.\n",
    "\n",
    "By using the __init__() function, we can ensure that the properties of an object are initialized correctly when it is created, which can help to prevent errors and make the code more reliable."
   ]
  },
  {
   "cell_type": "markdown",
   "id": "bd7b54df-c884-4009-b31b-88d32f0a08ae",
   "metadata": {},
   "source": [
    "4. Why self is used in OOPs?"
   ]
  },
  {
   "cell_type": "markdown",
   "id": "db48ffee-1c3b-4f3c-9253-c2f396e9eb42",
   "metadata": {},
   "source": [
    "In Object-Oriented Programming (OOPs), self is a special variable that refers to the instance of a class. It is used to access the properties and methods of the object within the class and to make changes to those properties and methods.\n",
    "\n",
    "When a method is called on an object, the object itself is passed as the first argument to the method. By convention, this argument is named self. The self parameter is used to access the properties and methods of the object within the class.\n",
    "\n",
    "For example, consider a class called \"Rectangle\" that has properties such as length and width, and methods such as area() and perimeter(). Here's an example of how self can be used in the class methods:"
   ]
  },
  {
   "cell_type": "code",
   "execution_count": 3,
   "id": "1bb1a758-544f-443b-a178-a196cc2917e4",
   "metadata": {},
   "outputs": [],
   "source": [
    "class Rectangle:\n",
    "    def __init__(self, length, width):\n",
    "        self.length = length\n",
    "        self.width = width\n",
    "\n",
    "    def area(self):\n",
    "        return self.length * self.width\n",
    "\n",
    "    def perimeter(self):\n",
    "        return 2 * (self.length + self.width)"
   ]
  },
  {
   "cell_type": "markdown",
   "id": "03d1fcc4-d088-4150-ad0d-01234e6f7f24",
   "metadata": {},
   "source": [
    "In this example, the __init__() method takes self, length, and width as parameters. It initializes the properties length and width of the object with the values passed to the method. The area() and perimeter() methods also take self as a parameter and use it to access the properties length and width of the object.\n",
    "\n",
    "Now, if we create an object of the Rectangle class, like this:"
   ]
  },
  {
   "cell_type": "code",
   "execution_count": 4,
   "id": "8b510326-64d9-4dad-97fc-4ec6a5de7d2d",
   "metadata": {},
   "outputs": [],
   "source": [
    "rect = Rectangle(5, 10)"
   ]
  },
  {
   "cell_type": "markdown",
   "id": "ab65e5a8-d496-450a-a9b2-9ad76688fa70",
   "metadata": {},
   "source": [
    "We can call the area() and perimeter() methods on the rect object and use self to access the properties of the object within the methods:"
   ]
  },
  {
   "cell_type": "code",
   "execution_count": 5,
   "id": "4844a81b-8f5d-45af-b77a-76ab030ee658",
   "metadata": {},
   "outputs": [
    {
     "name": "stdout",
     "output_type": "stream",
     "text": [
      "50\n",
      "30\n"
     ]
    }
   ],
   "source": [
    "print(rect.area())\n",
    "print(rect.perimeter())"
   ]
  },
  {
   "cell_type": "markdown",
   "id": "ac4c5599-4fd4-4536-81e1-abd62321bb64",
   "metadata": {},
   "source": [
    "By using self, we can ensure that the methods of a class work with the correct instance of the class and can access the properties and methods of that instance."
   ]
  },
  {
   "cell_type": "markdown",
   "id": "553f3017-e0c4-46c5-90e4-6d79adb50fe8",
   "metadata": {},
   "source": [
    "5. What is inheritance? Give an example for each type of inheritance."
   ]
  },
  {
   "cell_type": "markdown",
   "id": "befb34c7-a87d-4df3-97c2-7e4c792b4f22",
   "metadata": {},
   "source": [
    "Inheritance is a mechanism in Object-Oriented Programming (OOP) that allows a new class to be based on an existing class, inheriting the properties and methods of the existing class. The new class is known as the derived class or subclass, and the existing class is known as the base class or superclass.\n",
    "\n",
    "There are four types of inheritance in OOP:\n",
    "\n",
    "Single Inheritance: In single inheritance, a class inherits from a single base class. The derived class inherits all the properties and methods of the base class.\n",
    "Example:"
   ]
  },
  {
   "cell_type": "code",
   "execution_count": 6,
   "id": "095c2eba-3e03-4895-acf2-93aafc719cec",
   "metadata": {},
   "outputs": [],
   "source": [
    "class Animal:\n",
    "    def move(self):\n",
    "        print(\"Moving...\")\n",
    "\n",
    "class Dog(Animal):\n",
    "    def bark(self):\n",
    "        print(\"Barking...\")"
   ]
  },
  {
   "cell_type": "markdown",
   "id": "4e80755e-1f3e-488a-a8da-d293f62cc329",
   "metadata": {},
   "source": [
    "In this example, the Dog class is derived from the Animal class using single inheritance. The Dog class inherits the move() method from the Animal class.\n",
    "\n",
    "Multiple Inheritance: In multiple inheritance, a class inherits from multiple base classes. The derived class inherits all the properties and methods of all the base classes.\n",
    "Example:"
   ]
  },
  {
   "cell_type": "code",
   "execution_count": 7,
   "id": "6071652c-8443-46b7-ac02-693999b1e56c",
   "metadata": {},
   "outputs": [],
   "source": [
    "class A:\n",
    "    def method_a(self):\n",
    "        print(\"Method A...\")\n",
    "\n",
    "class B:\n",
    "    def method_b(self):\n",
    "        print(\"Method B...\")\n",
    "\n",
    "class C(A, B):\n",
    "    def method_c(self):\n",
    "        print(\"Method C...\")"
   ]
  },
  {
   "cell_type": "markdown",
   "id": "08b7dd0d-2a23-4c2e-982d-8ce458563471",
   "metadata": {},
   "source": [
    "In this example, the C class is derived from both the A and B classes using multiple inheritance. The C class inherits the method_a() method from the A class and the method_b() method from the B class.\n",
    "\n",
    "Multi-level Inheritance: In multi-level inheritance, a class is derived from a derived class. The derived class inherits all the properties and methods of the base class and the derived class.\n",
    "Example:"
   ]
  },
  {
   "cell_type": "code",
   "execution_count": 8,
   "id": "7280769d-e5a2-4fcc-aaae-d592aefbbfde",
   "metadata": {},
   "outputs": [],
   "source": [
    "class A:\n",
    "    def method_a(self):\n",
    "        print(\"Method A...\")\n",
    "\n",
    "class B(A):\n",
    "    def method_b(self):\n",
    "        print(\"Method B...\")\n",
    "\n",
    "class C(B):\n",
    "    def method_c(self):\n",
    "        print(\"Method C...\")"
   ]
  },
  {
   "cell_type": "markdown",
   "id": "c2cc44d8-d341-4679-b859-dff0d05e68af",
   "metadata": {},
   "source": [
    "In this example, the C class is derived from the B class, which is derived from the A class using multi-level inheritance. The C class inherits the method_a() method from the A class and the method_b() method from the B class.\n",
    "\n",
    "Hierarchical Inheritance: In hierarchical inheritance, multiple classes are derived from a single base class. The derived classes inherit all the properties and methods of the base class.\n",
    "Example:"
   ]
  },
  {
   "cell_type": "code",
   "execution_count": 9,
   "id": "66cf5d54-061b-4201-84b8-8d36c050a2a2",
   "metadata": {},
   "outputs": [],
   "source": [
    "class Shape:\n",
    "    def draw(self):\n",
    "        print(\"Drawing shape...\")\n",
    "\n",
    "class Circle(Shape):\n",
    "    def draw(self):\n",
    "        print(\"Drawing circle...\")\n",
    "\n",
    "class Square(Shape):\n",
    "    def draw(self):\n",
    "        print(\"Drawing square...\")"
   ]
  },
  {
   "cell_type": "markdown",
   "id": "633527dc-0da2-46bb-9b97-681d4450abeb",
   "metadata": {},
   "source": [
    "In this example, the Circle and Square classes are derived from the Shape class using hierarchical inheritance. Both classes inherit the draw() method from the Shape class. However, each class provides its own implementation of the draw() method."
   ]
  }
 ],
 "metadata": {
  "kernelspec": {
   "display_name": "Python 3 (ipykernel)",
   "language": "python",
   "name": "python3"
  },
  "language_info": {
   "codemirror_mode": {
    "name": "ipython",
    "version": 3
   },
   "file_extension": ".py",
   "mimetype": "text/x-python",
   "name": "python",
   "nbconvert_exporter": "python",
   "pygments_lexer": "ipython3",
   "version": "3.10.8"
  }
 },
 "nbformat": 4,
 "nbformat_minor": 5
}
