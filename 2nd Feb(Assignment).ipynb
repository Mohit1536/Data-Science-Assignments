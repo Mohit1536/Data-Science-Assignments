{
 "cells": [
  {
   "cell_type": "markdown",
   "id": "b7e44dc4-f1b6-4730-a1f6-e30cad922d3b",
   "metadata": {},
   "source": [
    "1. Explain with an example each when to use a for loop and when to use while loop."
   ]
  },
  {
   "cell_type": "raw",
   "id": "2e1b2be1-4dae-43d4-a2e1-3d3e54b9bb7c",
   "metadata": {},
   "source": [
    "=> In Python, a for loop is generally used when you know in advance the number of iterations required to complete a task.\n",
    "On the other hand, a while loop is used when you don't know in advance the number of iterations required to complete a task.\n",
    "\n",
    "Example of using a for loop:\n",
    "\n",
    "fruits = [\"apple\", \"banana\", \"cherry\"]\n",
    "\n",
    "for fruit in fruits:\n",
    "    print(fruit)\n",
    "\n",
    "In this example, we use a for loop to iterate over a list of fruits and print each fruit in the list. Since we know the number of fruits in the list in advance, a for loop is a good choice.\n",
    "\n",
    "Example of using a while loop:\n",
    "\n",
    "num = 1\n",
    "while num <= 10:\n",
    "    print(num)\n",
    "    num += 1\n",
    "    \n",
    "In this example, we use a while loop to print the numbers 1 to 10. We don't know in advance the number of times we need to print the numbers, so a while loop is a better choice. We increment the value of num inside the loop to ensure that the loop eventually terminates when num becomes greater than 10."
   ]
  },
  {
   "cell_type": "markdown",
   "id": "92a89d69-4de4-40af-baf9-2191273a9ba2",
   "metadata": {},
   "source": [
    "2. Write a python program to print the sum of the first 10 natural numbers using for and while loop"
   ]
  },
  {
   "cell_type": "code",
   "execution_count": 1,
   "id": "6abfeca2-ae96-41b5-8fbf-616826cc0016",
   "metadata": {},
   "outputs": [
    {
     "name": "stdout",
     "output_type": "stream",
     "text": [
      "55\n"
     ]
    }
   ],
   "source": [
    "num=0\n",
    "add=0\n",
    "while(num<=10):\n",
    "    add=add+num\n",
    "    num=num+1\n",
    "print(add)"
   ]
  },
  {
   "cell_type": "code",
   "execution_count": 4,
   "id": "802b2114-f3bd-4e5f-8dc8-1300386077e1",
   "metadata": {},
   "outputs": [
    {
     "name": "stdout",
     "output_type": "stream",
     "text": [
      "55\n"
     ]
    }
   ],
   "source": [
    "num=0\n",
    "add=0\n",
    "for num in range(1,11):\n",
    "    add=add+num\n",
    "    num=num+1\n",
    "print(add)"
   ]
  },
  {
   "cell_type": "markdown",
   "id": "29301e1b-6dc1-4937-807e-8dc620e87621",
   "metadata": {},
   "source": [
    "3. Create a python program to compute the electricity bill for a household.\n",
    "The per-unit charges in rupees are as follows: For the first 100 units, the user will be charged Rs. 4.5 per unit,\n",
    "for the next 100 units, the user will be charged Rs. 6 per unit, and for the next 100 units, \n",
    "the user will be charged Rs. 10 per unit, After 300 units and above the user will be charged Rs. 20 per unit.\n",
    "You are required to take the units of electricity consumed in a month from the user as input.\n",
    "Your program must pass this test case: when the unit of electricity consumed by the user in a month is\n",
    "310, the total electricity bill should be 2250."
   ]
  },
  {
   "cell_type": "code",
   "execution_count": 10,
   "id": "742fdf02-1cbc-47ac-9394-db99ef0f3b82",
   "metadata": {},
   "outputs": [
    {
     "name": "stdin",
     "output_type": "stream",
     "text": [
      "Enter the number of units consumed in a month:  310\n"
     ]
    },
    {
     "name": "stdout",
     "output_type": "stream",
     "text": [
      "Total electricty bill for the month =  2250.0\n"
     ]
    }
   ],
   "source": [
    "units=(int(input(\"Enter the number of units consumed in a month: \")))\n",
    "\n",
    "if units<=100:\n",
    "    charge=units*4.5\n",
    "elif units<=200:\n",
    "    charge=100*4.5+(units-100)*6\n",
    "elif units<=300:\n",
    "    charge=100*4.5+100*6+(units-200)*10\n",
    "else:\n",
    "    charge=100*4.5+100*6+100*10+(units-300)*20\n",
    "print(\"Total electricty bill for the month = \", charge)"
   ]
  },
  {
   "cell_type": "code",
   "execution_count": 12,
   "id": "96ee6343-d851-4bf6-925b-d4f8de1a2918",
   "metadata": {},
   "outputs": [],
   "source": [
    "l1=[]"
   ]
  },
  {
   "cell_type": "code",
   "execution_count": 13,
   "id": "0e506b0a-a77c-48f2-bd36-fb219ea35210",
   "metadata": {},
   "outputs": [
    {
     "data": {
      "text/plain": [
       "list"
      ]
     },
     "execution_count": 13,
     "metadata": {},
     "output_type": "execute_result"
    }
   ],
   "source": [
    "type(l1)"
   ]
  },
  {
   "cell_type": "code",
   "execution_count": 15,
   "id": "a400521d-0260-444e-8147-dc804dc89521",
   "metadata": {},
   "outputs": [],
   "source": [
    "for i in range (1,101):\n",
    "    l1.append(i)"
   ]
  },
  {
   "cell_type": "code",
   "execution_count": 16,
   "id": "7e7676de-8d6d-45ce-8e9d-e63f3db3a948",
   "metadata": {},
   "outputs": [
    {
     "name": "stdout",
     "output_type": "stream",
     "text": [
      "[1, 2, 3, 4, 5, 6, 7, 8, 9, 10, 11, 12, 13, 14, 15, 16, 17, 18, 19, 20, 21, 22, 23, 24, 25, 26, 27, 28, 29, 30, 31, 32, 33, 34, 35, 36, 37, 38, 39, 40, 41, 42, 43, 44, 45, 46, 47, 48, 49, 50, 51, 52, 53, 54, 55, 56, 57, 58, 59, 60, 61, 62, 63, 64, 65, 66, 67, 68, 69, 70, 71, 72, 73, 74, 75, 76, 77, 78, 79, 80, 81, 82, 83, 84, 85, 86, 87, 88, 89, 90, 91, 92, 93, 94, 95, 96, 97, 98, 99, 100]\n"
     ]
    }
   ],
   "source": [
    "print(l1)"
   ]
  },
  {
   "cell_type": "code",
   "execution_count": 18,
   "id": "9c8d5a98-d787-467b-80bd-d5230d5e7cf7",
   "metadata": {},
   "outputs": [
    {
     "name": "stdout",
     "output_type": "stream",
     "text": [
      "[2, 4, 5, 6, 8, 10, 12, 14, 15, 16, 18, 20, 22, 24, 25, 26, 28, 30, 32, 34, 35, 36, 38, 40, 42, 44, 45, 46, 48, 50, 52, 54, 55, 56, 58, 60, 62, 64, 65, 66, 68, 70, 72, 74, 75, 76, 78, 80, 82, 84, 85, 86, 88, 90, 92, 94, 95, 96, 98, 100]\n"
     ]
    }
   ],
   "source": [
    "w_list=[]\n",
    "i=1\n",
    "while(i<=99):\n",
    "    cube=l1[i]**3\n",
    "    if cube%4==0 or cube%5==0:\n",
    "        w_list.append(l1[i])\n",
    "    i=i+1\n",
    "print(w_list)"
   ]
  },
  {
   "cell_type": "code",
   "execution_count": 19,
   "id": "bf7f1f1a-f020-4b58-b073-1db5f623f4b5",
   "metadata": {},
   "outputs": [
    {
     "name": "stdout",
     "output_type": "stream",
     "text": [
      "[2, 4, 5, 6, 8, 10, 12, 14, 15, 16, 18, 20, 22, 24, 25, 26, 28, 30, 32, 34, 35, 36, 38, 40, 42, 44, 45, 46, 48, 50, 52, 54, 55, 56, 58, 60, 62, 64, 65, 66, 68, 70, 72, 74, 75, 76, 78, 80, 82, 84, 85, 86, 88, 90, 92, 94, 95, 96, 98]\n"
     ]
    }
   ],
   "source": [
    "f_list=[]\n",
    "for i in range(0,99):\n",
    "    cube=l1[i]**3\n",
    "    if cube%4==0 or cube%5==0:\n",
    "        f_list.append(l1[i])\n",
    "print(f_list)"
   ]
  },
  {
   "cell_type": "markdown",
   "id": "c1c9b310-e665-4749-b43a-bc2f102ffec4",
   "metadata": {},
   "source": [
    "5. Write a program to filter count vowels in the below-given string. string = \"I want to become a data scientist\""
   ]
  },
  {
   "cell_type": "code",
   "execution_count": 22,
   "id": "cd3d0b27-76fe-480e-8b2a-1a7889e15cc6",
   "metadata": {},
   "outputs": [
    {
     "name": "stdout",
     "output_type": "stream",
     "text": [
      "['I', 'a', 'o', 'e', 'o', 'e', 'a', 'a', 'a', 'i', 'e', 'i']\n",
      "12\n"
     ]
    }
   ],
   "source": [
    "s=\"I want to become a data scientist\"\n",
    "v=['a','e','i','o','u']\n",
    "v_filter=[]\n",
    "for char in s:\n",
    "    if char.lower() in v:\n",
    "        v_filter.append(char)\n",
    "count_v=len(v_filter)\n",
    "print(v_filter)\n",
    "print(count_v)"
   ]
  },
  {
   "cell_type": "code",
   "execution_count": null,
   "id": "f5ec807b-a580-424a-9507-58a1f0023b39",
   "metadata": {},
   "outputs": [],
   "source": []
  }
 ],
 "metadata": {
  "kernelspec": {
   "display_name": "Python 3 (ipykernel)",
   "language": "python",
   "name": "python3"
  },
  "language_info": {
   "codemirror_mode": {
    "name": "ipython",
    "version": 3
   },
   "file_extension": ".py",
   "mimetype": "text/x-python",
   "name": "python",
   "nbconvert_exporter": "python",
   "pygments_lexer": "ipython3",
   "version": "3.10.8"
  }
 },
 "nbformat": 4,
 "nbformat_minor": 5
}
