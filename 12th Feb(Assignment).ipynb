{
 "cells": [
  {
   "cell_type": "markdown",
   "id": "3c88710f-ba8a-4889-8bcb-ed52c96caeb4",
   "metadata": {},
   "source": [
    "1.  What is an Exception in python? Write the difference between Exceptions and Syntax errors."
   ]
  },
  {
   "cell_type": "markdown",
   "id": "5069e448-f88b-47ce-87c3-751b28a1533a",
   "metadata": {},
   "source": [
    "In Python, an exception is an error that occurs during the execution of a program. When an exception is raised, the normal flow of a program is disrupted, and the program terminates with an error message.\n",
    "\n",
    "Exceptions are typically caused by unexpected or erroneous situations in a program. Examples of common exceptions in Python include TypeError, ValueError, IndexError, and KeyError.\n",
    "\n",
    "Syntax errors, on the other hand, occur when the Python interpreter is unable to parse or understand the code in a program. Syntax errors are typically caused by missing or incorrect punctuation, misspelled keywords, or other mistakes in the code itself.\n",
    "\n",
    "The key difference between exceptions and syntax errors is that syntax errors are detected by the Python interpreter before the program is executed, while exceptions occur during program execution. In other words, a syntax error prevents the program from running at all, while an exception can occur while the program is running.\n",
    "\n",
    "When an exception is raised in a Python program, it can be caught and handled using a try-except block. This allows the program to continue running even if an exception occurs, by providing an alternate path for the program to follow. Syntax errors, on the other hand, must be fixed before the program can be executed at all."
   ]
  },
  {
   "cell_type": "markdown",
   "id": "fdd96401-e000-4eac-9c5c-963ac5030841",
   "metadata": {},
   "source": [
    "2. What happens when an exception is not handled? Explain with an example."
   ]
  },
  {
   "cell_type": "markdown",
   "id": "a1fa76e4-6b7a-41f1-9849-1943525b2805",
   "metadata": {},
   "source": [
    "When an exception is not handled in a Python program, it will propagate up the call stack until it reaches the top-level of the program, and the program will terminate with an error message. This means that any code that comes after the unhandled exception will not be executed.\n",
    "\n",
    "Here's an example of what happens when an exception is not handled:\n",
    "\n",
    "def divide_by_zero(x):\n",
    "    return x / 0\n",
    "\n",
    "def main():\n",
    "    result = divide_by_zero(10)\n",
    "    print(result)\n",
    "\n",
    "if __name__ == '__main__':\n",
    "    main()\n",
    "In this example, the divide_by_zero function tries to divide a number by zero, which is not allowed in Python and will raise a ZeroDivisionError exception. The main function calls divide_by_zero with the argument 10, and then tries to print the result.\n",
    "\n",
    "If we run this program, we will see the following output:\n",
    "\n",
    "Traceback (most recent call last):\n",
    "  File \"example.py\", line 9, in <module>\n",
    "    main()\n",
    "  File \"example.py\", line 6, in main\n",
    "    result = divide_by_zero(10)\n",
    "  File \"example.py\", line 2, in divide_by_zero\n",
    "    return x / 0\n",
    "ZeroDivisionError: division by zero\n",
    "This error message tells us that a ZeroDivisionError occurred in the divide_by_zero function, and that the program terminated as a result. We can see from the stack trace that the error propagated up to the main function before terminating the program.\n",
    "\n",
    "In this example, we didn't handle the exception in any way, so the program terminated with an error message. However, we could have handled the exception by using a try-except block to catch the exception and handle it gracefully, such as by printing an error message and continuing with the program."
   ]
  },
  {
   "cell_type": "markdown",
   "id": "a8258115-c565-4293-bef2-9f40d04af8d5",
   "metadata": {},
   "source": [
    "3. Which Python statements are used to catch and handle exceptions? Explain with an example."
   ]
  },
  {
   "cell_type": "markdown",
   "id": "28c6ea1a-c92c-437a-807c-9bc91931e4c0",
   "metadata": {},
   "source": [
    "To catch and handle exceptions in Python, we use a try-except block. The try block contains the code that might raise an exception, and the except block specifies what to do if an exception is raised. Here's an example:\n",
    "\n",
    "\n",
    "def divide(x, y):\n",
    "\n",
    "    try:\n",
    "        result = x / y\n",
    "    except ZeroDivisionError:\n",
    "        print(\"Error: division by zero\")\n",
    "        result = None\n",
    "    return result\n",
    "\n",
    "print(divide(10, 0))\n",
    "\n",
    "print(divide(10, 2))\n",
    "\n",
    "In this example, the divide function takes two arguments, x and y, and tries to divide x by y. However, if y is zero, this will raise a ZeroDivisionError.\n",
    "\n",
    "To handle this exception, we use a try-except block. The try block contains the code that might raise an exception, which in this case is the division operation. If an exception is raised, the code in the except block is executed instead.\n",
    "\n",
    "In this case, the except block prints an error message and sets the result variable to None. This ensures that the function always returns a value, even if an exception occurs.\n",
    "\n",
    "We can then call the divide function with different arguments to see how it behaves. If we call divide(10, 0), we will see the following output:\n",
    "\n",
    "\n",
    "Error: division by zero\n",
    "\n",
    "None\n",
    "\n",
    "This output shows that the except block was executed, and that the function returned None as a result of the exception. If we call divide(10, 2), we will see the following output:\n",
    "\n",
    "\n",
    "5.0\n",
    "\n",
    "This output shows that the division was successful, and that the function returned the expected result.\n",
    "\n",
    "Overall, the try-except block allows us to gracefully handle exceptions in our Python code, and to continue running the program even if an exception occurs."
   ]
  },
  {
   "cell_type": "markdown",
   "id": "aaece5d3-baa7-4579-a751-962f16743b6e",
   "metadata": {},
   "source": [
    "4. Explain with an example:\n",
    "\n",
    "a. try and else\n",
    "\n",
    "b. finally\n",
    "\n",
    "c. raise"
   ]
  },
  {
   "cell_type": "markdown",
   "id": "f8bd9425-8e42-403c-ae3f-f438a3894eca",
   "metadata": {},
   "source": [
    "a. try and else\n",
    "\n",
    "In Python, we can use a try-else block to specify code that should be executed if no exceptions are raised in the try block. Here's an example:\n",
    "\n",
    "try:\n",
    "    \n",
    "    x = int(input(\"Enter a number: \"))\n",
    "except ValueError:\n",
    "    \n",
    "    print(\"Error: not a number\")\n",
    "else:\n",
    "    \n",
    "    print(\"The number is\", x)\n",
    "\n",
    "In this example, the try block tries to convert user input to an integer using the int function. If the user enters a non-numeric value, a ValueError will be raised, and the code in the except block will be executed. If the conversion is successful, the code in the else block will be executed.\n",
    "\n",
    "If we run this code and enter a numeric value, such as 42, we will see the following output:\n",
    "\n",
    "Enter a number: 42\n",
    "\n",
    "The number is 42\n",
    "\n",
    "This output shows that the conversion was successful, and that the code in the else block was executed.\n",
    "\n",
    "If we run this code and enter a non-numeric value, such as foo, we will see the following output:\n",
    "\n",
    "Enter a number: foo\n",
    "\n",
    "Error: not a number\n",
    "\n",
    "This output shows that a ValueError was raised, and that the code in the except block was executed instead of the else block.\n",
    "\n",
    "b. finally\n",
    "\n",
    "In Python, we can use a finally block to specify code that should be executed regardless of whether an exception was raised in a try block. Here's an example:\n",
    "\n",
    "try:\n",
    "    f = open(\"example.txt\", \"r\")\n",
    "\n",
    "    # Do something with the file\n",
    "finally:\n",
    "    \n",
    "    f.close()\n",
    "\n",
    "In this example, the try block opens a file for reading, and then does some processing with the file. The finally block ensures that the file is always closed, even if an exception occurs.\n",
    "\n",
    "If we run this code and encounter an exception, such as a FileNotFoundError, the finally block will still be executed, and the file will be closed.\n",
    "\n",
    "c. raise\n",
    "\n",
    "In Python, we can use the raise keyword to explicitly raise an exception. Here's an example:\n",
    "\n",
    "def divide(x, y):\n",
    "\n",
    "    if y == 0:\n",
    "\n",
    "        raise ValueError(\"division by zero\")\n",
    "    \n",
    "    return x / y\n",
    "\n",
    "In this example, the divide function checks if the second argument, y, is zero. If it is, the function raises a ValueError with a message indicating that division by zero is not allowed. If y is not zero, the function performs the division and returns the result.\n",
    "\n",
    "If we call the divide function with a zero value for the second argument, such as divide(10, 0), a ValueError will be raised with the message \"division by zero\". This allows us to explicitly handle specific error conditions in our code, and to provide informative error messages to users."
   ]
  },
  {
   "cell_type": "markdown",
   "id": "8282cd24-6a45-4c69-ab13-245928e627b3",
   "metadata": {},
   "source": [
    "5. What are Custom Exceptions in python? Why do we need Custom Exceptions? Explain with an example."
   ]
  },
  {
   "cell_type": "markdown",
   "id": "53f1e075-710f-42b6-9dd8-3f62571d0b0f",
   "metadata": {},
   "source": [
    "Custom exceptions in Python are user-defined exceptions that extend the built-in Exception class. They provide a way to create our own error types that can be raised and caught like any other exception.\n",
    "\n",
    "We may need custom exceptions in situations where the built-in exceptions do not provide enough information or context about the error that occurred, or when we want to create a hierarchy of exceptions that can be caught and handled at different levels of our code.\n",
    "\n",
    "Here's an example of how to define and use a custom exception in Python:"
   ]
  },
  {
   "cell_type": "code",
   "execution_count": 1,
   "id": "d5c92bfc-1b3e-489b-97fe-d91fe03fbb54",
   "metadata": {},
   "outputs": [
    {
     "name": "stdout",
     "output_type": "stream",
     "text": [
      "Cannot take square root of negative number\n"
     ]
    }
   ],
   "source": [
    "class NegativeNumberError(Exception):\n",
    "    pass\n",
    "\n",
    "def sqrt(x):\n",
    "    if x < 0:\n",
    "        raise NegativeNumberError(\"Cannot take square root of negative number\")\n",
    "    # Calculate square root\n",
    "    return x**0.5\n",
    "\n",
    "try:\n",
    "    print(sqrt(-1))\n",
    "except NegativeNumberError as e:\n",
    "    print(e)"
   ]
  },
  {
   "cell_type": "markdown",
   "id": "62c920d7-1cf8-49ab-808f-706e1f07f9ac",
   "metadata": {},
   "source": [
    "In this example, we define a custom exception called NegativeNumberError that extends the built-in Exception class. We also define a function called sqrt that takes a number x and calculates its square root. If x is negative, the function raises a NegativeNumberError with a message indicating that the square root of a negative number is not allowed.\n",
    "\n",
    "We then use a try-except block to catch any NegativeNumberError exceptions that may be raised by the sqrt function. If an exception is caught, we print the error message using the as keyword to assign the exception object to a variable.\n",
    "\n",
    "If we run this code, we will see the following output:\n",
    "\n",
    "Cannot take square root of negative number\n",
    "\n",
    "This output shows that the NegativeNumberError exception was raised and caught, and that the error message was printed to the console.\n",
    "\n",
    "By defining and using custom exceptions in our code, we can provide more specific and informative error messages to users, and make our code more robust and maintainable."
   ]
  },
  {
   "cell_type": "markdown",
   "id": "42fb8719-4d8b-417c-b57f-72573fb524c2",
   "metadata": {},
   "source": [
    "6. Create a custom exception class. Use this class to handle an exception."
   ]
  },
  {
   "cell_type": "code",
   "execution_count": 2,
   "id": "6b519946-4864-4e50-8d80-271ee5aad695",
   "metadata": {},
   "outputs": [
    {
     "name": "stdout",
     "output_type": "stream",
     "text": [
      "Caught an exception: x must be non-negative\n"
     ]
    }
   ],
   "source": [
    "class MyCustomException(Exception):\n",
    "    pass\n",
    "\n",
    "def my_function(x):\n",
    "    if x < 0:\n",
    "        raise MyCustomException(\"x must be non-negative\")\n",
    "    else:\n",
    "        return x**2\n",
    "\n",
    "try:\n",
    "    result = my_function(-1)\n",
    "    print(result)\n",
    "except MyCustomException as e:\n",
    "    print(\"Caught an exception:\", e)"
   ]
  }
 ],
 "metadata": {
  "kernelspec": {
   "display_name": "Python 3 (ipykernel)",
   "language": "python",
   "name": "python3"
  },
  "language_info": {
   "codemirror_mode": {
    "name": "ipython",
    "version": 3
   },
   "file_extension": ".py",
   "mimetype": "text/x-python",
   "name": "python",
   "nbconvert_exporter": "python",
   "pygments_lexer": "ipython3",
   "version": "3.10.8"
  }
 },
 "nbformat": 4,
 "nbformat_minor": 5
}
