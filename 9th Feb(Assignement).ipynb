{
 "cells": [
  {
   "cell_type": "markdown",
   "id": "de76e8a1-e2f6-4116-a8ec-fdbc474b7ce9",
   "metadata": {},
   "source": [
    "1. Create a vehicle class with an init method having instance variables as name_of_vehicle, max_speed and average_of_vehicle."
   ]
  },
  {
   "cell_type": "code",
   "execution_count": 1,
   "id": "b8bfa516-fb48-40f6-877a-d0a6d911bc1d",
   "metadata": {},
   "outputs": [],
   "source": [
    "class Vehicle:\n",
    "    def __init__(self, name_of_vehicle, max_speed, average_of_vehicle):\n",
    "        self.name_of_vehicle = name_of_vehicle\n",
    "        self.max_speed = max_speed\n",
    "        self.average_of_vehicle = average_of_vehicle"
   ]
  },
  {
   "cell_type": "code",
   "execution_count": 2,
   "id": "19dd73bd-6855-433f-98f9-52a79f11fa47",
   "metadata": {},
   "outputs": [
    {
     "name": "stdout",
     "output_type": "stream",
     "text": [
      "Toyota\n",
      "200\n",
      "35\n"
     ]
    }
   ],
   "source": [
    "car = Vehicle(\"Toyota\", 200, 35)\n",
    "print(car.name_of_vehicle)  \n",
    "print(car.max_speed)  \n",
    "print(car.average_of_vehicle)  "
   ]
  },
  {
   "cell_type": "markdown",
   "id": "3bf3a242-1790-4fe4-8748-05a4627334c9",
   "metadata": {},
   "source": [
    "2. Create a child class car from the vehicle class created in Que 1, which will inherit the vehicle class. Create a method named seating_capacity which takes capacity as an argument and returns the name of the vehicle and its seating capacity."
   ]
  },
  {
   "cell_type": "code",
   "execution_count": 3,
   "id": "5c927f32-c47f-4799-b683-b8dd47bbb399",
   "metadata": {},
   "outputs": [],
   "source": [
    "class Car(Vehicle):\n",
    "    def __init__(self, name_of_vehicle, max_speed, average_of_vehicle):\n",
    "        super().__init__(name_of_vehicle, max_speed, average_of_vehicle)\n",
    "\n",
    "    def seating_capacity(self, capacity):\n",
    "        return f\"{self.name_of_vehicle} has a seating capacity of {capacity} passengers.\""
   ]
  },
  {
   "cell_type": "code",
   "execution_count": 4,
   "id": "f189fa0a-2614-4b1c-9ce7-c50c658639de",
   "metadata": {},
   "outputs": [
    {
     "name": "stdout",
     "output_type": "stream",
     "text": [
      "Toyota has a seating capacity of 5 passengers.\n"
     ]
    }
   ],
   "source": [
    "car1 = Car(\"Toyota\", 200, 35)\n",
    "print(car1.seating_capacity(5))"
   ]
  },
  {
   "cell_type": "code",
   "execution_count": 5,
   "id": "0a22365b-4ce6-4fbe-888e-0d4e0d478cd2",
   "metadata": {},
   "outputs": [
    {
     "name": "stdout",
     "output_type": "stream",
     "text": [
      "Honda has a seating capacity of 4 passengers.\n"
     ]
    }
   ],
   "source": [
    "car2 = Car(\"Honda\", 180, 30)\n",
    "print(car2.seating_capacity(4))"
   ]
  },
  {
   "cell_type": "markdown",
   "id": "c16e4fd7-d142-4be6-b2ca-d892a2b3cb30",
   "metadata": {},
   "source": [
    "3. What is multiple inheritance? Write a python code to demonstrate multiple inheritance."
   ]
  },
  {
   "cell_type": "markdown",
   "id": "79c6b994-7a69-437b-8ba8-a78aec06aa23",
   "metadata": {},
   "source": [
    "Multiple inheritance is a feature of object-oriented programming that allows a class to inherit from more than one parent class. This means that a subclass can inherit methods and attributes from multiple classes.\n",
    "\n",
    "Here's an example of a Python code to demonstrate multiple inheritance:"
   ]
  },
  {
   "cell_type": "code",
   "execution_count": 6,
   "id": "96d4c313-b623-4d0f-94a6-02d211459e19",
   "metadata": {},
   "outputs": [],
   "source": [
    "class A:\n",
    "    def method_a(self):\n",
    "        print(\"This is method A\")\n",
    "\n",
    "class B:\n",
    "    def method_b(self):\n",
    "        print(\"This is method B\")\n",
    "\n",
    "class C(A, B):\n",
    "    def method_c(self):\n",
    "        print(\"This is method C\")"
   ]
  },
  {
   "cell_type": "code",
   "execution_count": 8,
   "id": "bc8d0a7b-79b9-4125-9235-79877b54899d",
   "metadata": {},
   "outputs": [
    {
     "name": "stdout",
     "output_type": "stream",
     "text": [
      "This is method A\n"
     ]
    }
   ],
   "source": [
    "c = C()\n",
    "c.method_a()"
   ]
  },
  {
   "cell_type": "code",
   "execution_count": 9,
   "id": "ed92f2bd-2743-443c-b4d4-063882367a14",
   "metadata": {},
   "outputs": [
    {
     "name": "stdout",
     "output_type": "stream",
     "text": [
      "This is method B\n"
     ]
    }
   ],
   "source": [
    "c.method_b()"
   ]
  },
  {
   "cell_type": "code",
   "execution_count": 10,
   "id": "9f9de361-a0a8-4e7d-ab7c-35d33b9fd6d9",
   "metadata": {},
   "outputs": [
    {
     "name": "stdout",
     "output_type": "stream",
     "text": [
      "This is method C\n"
     ]
    }
   ],
   "source": [
    "c.method_c()"
   ]
  },
  {
   "cell_type": "markdown",
   "id": "ace81294-4fbb-439b-bf44-0abd3ef1d5fe",
   "metadata": {},
   "source": [
    "In this example, we define three classes: A, B, and C. Class A has a method called method_a, class B has a method called method_b, and class C inherits from both A and B.\n",
    "\n",
    "The C class also has its own method called method_c. When we create an object of class C and call its methods, it can call the methods inherited from both A and B, as well as its own methods defined in class C.\n",
    "\n",
    "This is just a simple example of multiple inheritance, but it shows how a class can inherit from multiple parent classes and use their methods and attributes."
   ]
  },
  {
   "cell_type": "markdown",
   "id": "c497ab40-886f-4c7e-bd28-089c948bcc6c",
   "metadata": {},
   "source": [
    "4. What are getter and setter in python? Create a class and create a getter and a setter method in this class."
   ]
  },
  {
   "cell_type": "markdown",
   "id": "d2562b76-7183-4419-9214-bb954fcc3d5a",
   "metadata": {},
   "source": [
    "Getter and setter methods are used in object-oriented programming to access and modify private instance variables of a class.\n",
    "\n",
    "In Python, getter and setter methods are implemented using properties. The @property decorator is used to define a getter method, and the @<property>.setter decorator is used to define a setter method.\n",
    "\n",
    "Here's an example of a Python class that has a private instance variable and getter and setter methods:"
   ]
  },
  {
   "cell_type": "code",
   "execution_count": 11,
   "id": "17c9907b-7991-4849-876c-01ae50508a27",
   "metadata": {},
   "outputs": [],
   "source": [
    "class MyClass:\n",
    "    def __init__(self, my_var):\n",
    "        self._my_var = my_var\n",
    "\n",
    "    @property\n",
    "    def my_var(self):\n",
    "        return self._my_var\n",
    "\n",
    "    @my_var.setter\n",
    "    def my_var(self, value):\n",
    "        self._my_var = value"
   ]
  },
  {
   "cell_type": "markdown",
   "id": "3802f7b5-177e-4e96-acbd-ab972fc59e56",
   "metadata": {},
   "source": [
    "In this example, we define a class called MyClass that has a private instance variable called _my_var. The __init__ method initializes this variable with a value passed in as an argument.\n",
    "\n",
    "We then define a getter method using the @property decorator. This method simply returns the value of _my_var.\n",
    "\n",
    "We also define a setter method using the @<property>.setter decorator. This method sets the value of _my_var to the value passed in as an argument.\n",
    "\n",
    "Now we can create an object of this class and use the getter and setter methods to access and modify the private instance variable:"
   ]
  },
  {
   "cell_type": "code",
   "execution_count": 12,
   "id": "98fc5767-e1a0-4f8b-894e-7bb509fa6607",
   "metadata": {},
   "outputs": [
    {
     "name": "stdout",
     "output_type": "stream",
     "text": [
      "10\n"
     ]
    }
   ],
   "source": [
    "obj = MyClass(10)\n",
    "\n",
    "print(obj.my_var)"
   ]
  },
  {
   "cell_type": "code",
   "execution_count": 13,
   "id": "d3401b87-9a31-4cd8-bf7f-772b820cc5d3",
   "metadata": {},
   "outputs": [
    {
     "name": "stdout",
     "output_type": "stream",
     "text": [
      "20\n"
     ]
    }
   ],
   "source": [
    "obj.my_var = 20\n",
    "\n",
    "print(obj.my_var)"
   ]
  },
  {
   "cell_type": "markdown",
   "id": "0e58890f-a1da-4e2a-b45d-caa1e9954169",
   "metadata": {},
   "source": [
    "In this example, we create an object of MyClass with an initial value of 10 for _my_var. We then use the getter method to print the value of _my_var, which is 10.\n",
    "\n",
    "We then use the setter method to set the value of _my_var to 20. We then use the getter method again to print the new value of _my_var, which is 20."
   ]
  },
  {
   "cell_type": "markdown",
   "id": "845b0efc-a1de-421f-8dbc-b4bd37cd38ed",
   "metadata": {},
   "source": [
    "5.What is method overriding in python? Write a python code to demonstrate method overriding."
   ]
  },
  {
   "cell_type": "markdown",
   "id": "a5d17349-3c14-46f3-a491-db3165f927d5",
   "metadata": {},
   "source": [
    "Method overriding is a feature of object-oriented programming that allows a subclass to provide its own implementation of a method that is already defined in its parent class. This means that a subclass can override the behavior of its parent class's method.\n",
    "\n",
    "Here's an example of a Python code to demonstrate method overriding:"
   ]
  },
  {
   "cell_type": "code",
   "execution_count": 14,
   "id": "9d829031-a216-40eb-b690-f1283d01c2f7",
   "metadata": {},
   "outputs": [],
   "source": [
    "class A:\n",
    "    def method1(self):\n",
    "        print(\"This is method 1 from class A\")\n",
    "\n",
    "class B(A):\n",
    "    def method1(self):\n",
    "        print(\"This is method 1 from class B\")"
   ]
  },
  {
   "cell_type": "code",
   "execution_count": 15,
   "id": "ebfca632-3b4c-4377-af0b-524401bab863",
   "metadata": {},
   "outputs": [
    {
     "name": "stdout",
     "output_type": "stream",
     "text": [
      "This is method 1 from class B\n"
     ]
    }
   ],
   "source": [
    "b = B()\n",
    "\n",
    "b.method1()"
   ]
  },
  {
   "cell_type": "markdown",
   "id": "79123434-732a-4f64-96de-07cfe8ab3f6c",
   "metadata": {},
   "source": [
    "In this example, we define two classes: A and B. Class A has a method called method1, and class B inherits from class A.\n",
    "\n",
    "The B class also has its own implementation of method1, which overrides the implementation in class A. When we create an object of class B and call its method1, it calls the implementation in class B instead of the implementation in class A.\n",
    "\n",
    "This is just a simple example of method overriding, but it shows how a subclass can change the behavior of a method defined in its parent class."
   ]
  },
  {
   "cell_type": "code",
   "execution_count": null,
   "id": "716e2495-5415-499d-8406-51c17bd4bb53",
   "metadata": {},
   "outputs": [],
   "source": []
  }
 ],
 "metadata": {
  "kernelspec": {
   "display_name": "Python 3 (ipykernel)",
   "language": "python",
   "name": "python3"
  },
  "language_info": {
   "codemirror_mode": {
    "name": "ipython",
    "version": 3
   },
   "file_extension": ".py",
   "mimetype": "text/x-python",
   "name": "python",
   "nbconvert_exporter": "python",
   "pygments_lexer": "ipython3",
   "version": "3.10.8"
  }
 },
 "nbformat": 4,
 "nbformat_minor": 5
}
