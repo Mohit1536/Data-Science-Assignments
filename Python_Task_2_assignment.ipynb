{
 "cells": [
  {
   "cell_type": "markdown",
   "id": "e6f7cd0c-e337-45d5-b89c-886e28e72311",
   "metadata": {},
   "source": [
    "1. You are writing code for a company. The requirement of the company is that you create a python function that will check whether the password entered by the user is correct or not. The function should take the password as input and return the string “Valid Password” if the entered password follows the below-given password guidelines else it should return “Invalid Password”. Note:\n",
    "\n",
    "(A). The Password should contain at least two uppercase letters and at least two lowercase letters.\n",
    "\n",
    "(B). The Password should contain at least a number and three special characters.\n",
    "\n",
    "(C). The length of the password should be 10 characters long."
   ]
  },
  {
   "cell_type": "code",
   "execution_count": 1,
   "id": "0d8dee7d-71a2-4ae6-ad71-17a202c85b9a",
   "metadata": {},
   "outputs": [],
   "source": [
    "def check_password(password):\n",
    "    uppercase_count = 0\n",
    "    lowercase_count = 0\n",
    "    digit_count = 0\n",
    "    special_count = 0\n",
    "    for char in password:\n",
    "        if char.isupper():\n",
    "            uppercase_count += 1\n",
    "        elif char.islower():\n",
    "            lowercase_count += 1\n",
    "        elif char.isdigit():\n",
    "            digit_count += 1\n",
    "        else:\n",
    "            special_count += 1\n",
    "    if (uppercase_count >= 2 and lowercase_count >= 2 and digit_count >= 1 and special_count >= 3 and len(password) == 10):\n",
    "        return \"Valid Password\"\n",
    "    else:\n",
    "        return \"Invalid Password\""
   ]
  },
  {
   "cell_type": "code",
   "execution_count": 4,
   "id": "c5e17b16-95e4-4be2-a488-7a1182afbcc7",
   "metadata": {},
   "outputs": [
    {
     "name": "stdout",
     "output_type": "stream",
     "text": [
      "Valid Password\n"
     ]
    }
   ],
   "source": [
    "# Example 1:\n",
    "print(check_password(\"MyPass1@^!\"))"
   ]
  },
  {
   "cell_type": "code",
   "execution_count": 5,
   "id": "f9b62d14-029b-463a-84c7-b861d825d0e0",
   "metadata": {},
   "outputs": [
    {
     "name": "stdout",
     "output_type": "stream",
     "text": [
      "Invalid Password\n"
     ]
    }
   ],
   "source": [
    "# Example 2: \n",
    "print(check_password(\"mypass123!!\"))"
   ]
  },
  {
   "cell_type": "code",
   "execution_count": 6,
   "id": "b9dd5e97-48f9-4d1e-8a17-04853e90ee2a",
   "metadata": {},
   "outputs": [
    {
     "name": "stdout",
     "output_type": "stream",
     "text": [
      "Invalid Password\n"
     ]
    }
   ],
   "source": [
    "# Example 3: \n",
    "print(check_password(\"MYPASS123!!\"))"
   ]
  },
  {
   "cell_type": "code",
   "execution_count": 7,
   "id": "a47ee850-798c-4dcb-b42f-419d90859df6",
   "metadata": {},
   "outputs": [
    {
     "name": "stdout",
     "output_type": "stream",
     "text": [
      "Invalid Password\n"
     ]
    }
   ],
   "source": [
    "# Example 4: \n",
    "print(check_password(\"MyPass123!\"))"
   ]
  },
  {
   "cell_type": "code",
   "execution_count": 8,
   "id": "92b64fbf-fd16-4038-aa6f-b4adb394e28e",
   "metadata": {},
   "outputs": [
    {
     "name": "stdout",
     "output_type": "stream",
     "text": [
      "Invalid Password\n"
     ]
    }
   ],
   "source": [
    "# Example 5:\n",
    "print(check_password(\"MyPas123!\"))"
   ]
  },
  {
   "cell_type": "code",
   "execution_count": 9,
   "id": "88485536-6c66-4b15-a105-a5b0d82bcd36",
   "metadata": {},
   "outputs": [
    {
     "name": "stdout",
     "output_type": "stream",
     "text": [
      "Invalid Password\n"
     ]
    }
   ],
   "source": [
    "# Example 6:\n",
    "print(check_password(\"MyPassword123!!\"))"
   ]
  },
  {
   "cell_type": "markdown",
   "id": "ab73b51e-e217-4d2d-8668-9ac7dee1a196",
   "metadata": {},
   "source": [
    "2. Solve the below-given questions using at least one of the following:\n",
    "\n",
    "(A). Lambda function\n",
    "\n",
    "(B). Filter function\n",
    "\n",
    "(C). Zap function\n",
    "\n",
    "(D). List Comprehension\n",
    "\n",
    "Check if the string starts with a particular letter.\n",
    "\n",
    "Check if the string is numeric,\n",
    "\n",
    "Sort a list of tuples having fruit names and their quantity. [(\"mango\",99),(\"orange\",80), (\"grapes\", 1000)]\n",
    "\n",
    "Find the squares of numbers from 1 to 10.\n",
    "\n",
    "Find the cube root of numbers from 1 to 10.\n",
    "\n",
    "Check if a given number is even.\n",
    "\n",
    "Filter odd numbers from the given list.[1,2,3,4,5,6,7,8,9,10]\n",
    "\n",
    "Sort a list of integers into positive and negative integers lists.[1,2,3,4,5,6,-1,-2,-3,-4,-5,0]"
   ]
  },
  {
   "cell_type": "code",
   "execution_count": 10,
   "id": "77d13255-1e4e-45d6-b995-6daa81ec1bab",
   "metadata": {},
   "outputs": [
    {
     "name": "stdout",
     "output_type": "stream",
     "text": [
      "True\n"
     ]
    }
   ],
   "source": [
    "string = \"Hello World\"\n",
    "letter = \"H\"\n",
    "check_start_with_letter = lambda string, letter: string.startswith(letter)\n",
    "print(check_start_with_letter(string, letter))"
   ]
  },
  {
   "cell_type": "code",
   "execution_count": 11,
   "id": "6a97aafe-e0dc-4b18-9d0e-21a4b7094dc2",
   "metadata": {},
   "outputs": [
    {
     "name": "stdout",
     "output_type": "stream",
     "text": [
      "True\n"
     ]
    }
   ],
   "source": [
    "string = \"1234\"\n",
    "check_is_numeric = lambda string: string.isnumeric()\n",
    "print(check_is_numeric(string))"
   ]
  },
  {
   "cell_type": "code",
   "execution_count": 12,
   "id": "6aa88fd6-88ed-43bc-96ce-f988c3f7240b",
   "metadata": {},
   "outputs": [
    {
     "name": "stdout",
     "output_type": "stream",
     "text": [
      "[('orange', 80), ('mango', 99), ('grapes', 1000)]\n"
     ]
    }
   ],
   "source": [
    "fruits = [(\"mango\",99),(\"orange\",80), (\"grapes\", 1000)]\n",
    "sorted_fruits = sorted(fruits, key=lambda x: x[1])\n",
    "print(sorted_fruits)"
   ]
  },
  {
   "cell_type": "code",
   "execution_count": 13,
   "id": "4d604618-f59a-41f6-b348-db121075050d",
   "metadata": {},
   "outputs": [
    {
     "name": "stdout",
     "output_type": "stream",
     "text": [
      "[1, 4, 9, 16, 25, 36, 49, 64, 81, 100]\n"
     ]
    }
   ],
   "source": [
    "squares = [x**2 for x in range(1, 11)]\n",
    "print(squares)"
   ]
  },
  {
   "cell_type": "code",
   "execution_count": 14,
   "id": "baa91c20-67ec-4b5f-9964-1672b6df5aac",
   "metadata": {},
   "outputs": [
    {
     "name": "stdout",
     "output_type": "stream",
     "text": [
      "[1.0, 1.2599210498948732, 1.4422495703074083, 1.5874010519681994, 1.7099759466766968, 1.8171205928321397, 1.912931182772389, 2.0, 2.080083823051904, 2.154434690031884]\n"
     ]
    }
   ],
   "source": [
    "cube_roots = [x**(1/3) for x in range(1, 11)]\n",
    "print(cube_roots)"
   ]
  },
  {
   "cell_type": "code",
   "execution_count": 15,
   "id": "274c4840-5771-4636-acdd-a52183a66e79",
   "metadata": {},
   "outputs": [
    {
     "name": "stdout",
     "output_type": "stream",
     "text": [
      "True\n"
     ]
    }
   ],
   "source": [
    "number = 10\n",
    "check_is_even = lambda number: number % 2 == 0\n",
    "print(check_is_even(number))"
   ]
  },
  {
   "cell_type": "code",
   "execution_count": 16,
   "id": "dbf71554-7fcc-49eb-8c6a-a1672f2bf22e",
   "metadata": {},
   "outputs": [
    {
     "name": "stdout",
     "output_type": "stream",
     "text": [
      "[1, 3, 5, 7, 9]\n"
     ]
    }
   ],
   "source": [
    "numbers = [1,2,3,4,5,6,7,8,9,10]\n",
    "filtered_numbers = list(filter(lambda x: x % 2 != 0, numbers))\n",
    "print(filtered_numbers)"
   ]
  },
  {
   "cell_type": "code",
   "execution_count": 17,
   "id": "c202277b-957d-4331-9989-006ac57d8c6a",
   "metadata": {},
   "outputs": [
    {
     "name": "stdout",
     "output_type": "stream",
     "text": [
      "[1, 2, 3, 4, 5, 6]\n",
      "[-1, -2, -3, -4, -5]\n"
     ]
    }
   ],
   "source": [
    "numbers = [1,2,3,4,5,6,-1,-2,-3,-4,-5,0]\n",
    "positive_numbers = [x for x in numbers if x > 0]\n",
    "negative_numbers = [x for x in numbers if x < 0]\n",
    "print(positive_numbers)\n",
    "print(negative_numbers)"
   ]
  }
 ],
 "metadata": {
  "kernelspec": {
   "display_name": "Python 3 (ipykernel)",
   "language": "python",
   "name": "python3"
  },
  "language_info": {
   "codemirror_mode": {
    "name": "ipython",
    "version": 3
   },
   "file_extension": ".py",
   "mimetype": "text/x-python",
   "name": "python",
   "nbconvert_exporter": "python",
   "pygments_lexer": "ipython3",
   "version": "3.10.8"
  }
 },
 "nbformat": 4,
 "nbformat_minor": 5
}
