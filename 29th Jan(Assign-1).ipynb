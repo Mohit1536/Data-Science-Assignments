{
 "cells": [
  {
   "cell_type": "raw",
   "id": "d5a63aa0-cd64-4e86-a286-d50081848754",
   "metadata": {},
   "source": [
    "1. Who developed Python Programming Language?"
   ]
  },
  {
   "cell_type": "raw",
   "id": "91548b7e-bec2-4aa6-9a8e-5e145120a6dd",
   "metadata": {},
   "source": [
    "=> Python was developed by Guido van Rossum on February 1991."
   ]
  },
  {
   "cell_type": "raw",
   "id": "0103ac72-7a87-4b1f-b41b-7a0e84575eaf",
   "metadata": {},
   "source": [
    "2. Which Type of Programming does Python support?"
   ]
  },
  {
   "cell_type": "raw",
   "id": "9ed4382e-e14d-40b4-802b-f684a208fe59",
   "metadata": {},
   "source": [
    "=> Python is an interpreted programming language, supporting object-oriented, \n",
    "   structured, and functional programming."
   ]
  },
  {
   "cell_type": "raw",
   "id": "d2090e3a-ea81-4e71-a5d3-e1a1c37e401b",
   "metadata": {},
   "source": [
    "3. Is Python Case Sensitive while dealing with Identifiers?"
   ]
  },
  {
   "cell_type": "raw",
   "id": "6b534176-9919-46b3-a8ec-07e5ce8c0d7b",
   "metadata": {},
   "source": [
    "=> Yes, Python is a case-sensitive language, which applies to the identifiers too."
   ]
  },
  {
   "cell_type": "raw",
   "id": "62ad52ff-55b0-4dc7-a90b-d3b37268ccf7",
   "metadata": {},
   "source": [
    "4. What is the correct extension of python file?"
   ]
  },
  {
   "cell_type": "raw",
   "id": "a1980028-cb95-4dd8-8cb4-1ff8065a34b5",
   "metadata": {},
   "source": [
    "=> The correct extension of a python file is \".py\"."
   ]
  },
  {
   "cell_type": "raw",
   "id": "7f17b221-f854-4eca-8242-4fb729eb310f",
   "metadata": {},
   "source": [
    "5. Is Python code compiled or interpreted?"
   ]
  },
  {
   "cell_type": "raw",
   "id": "67720394-d9a7-42cf-be50-a0f05d28974d",
   "metadata": {},
   "source": [
    "=> Python is an interpreted language, which means the source code of a Python program is converted into bytecode\n",
    "   and then executed by the Python virtual machine."
   ]
  },
  {
   "cell_type": "raw",
   "id": "a97caaca-d5da-4c4b-a3ed-c66bf0e082a7",
   "metadata": {},
   "source": [
    "6. Name a few blocks of code used to define in Python Language?"
   ]
  },
  {
   "cell_type": "raw",
   "id": "39d72ee2-3b29-4ee4-b08a-d154b7531d1b",
   "metadata": {},
   "source": [
    "=> A block is a piece of Python program text that is executed as a unit. The following are blocks:\n",
    "   a module, a function body, and a class definition. Each command typed interactively is a block."
   ]
  },
  {
   "cell_type": "raw",
   "id": "5364d069-dcac-4dc0-9646-6fce7e1417a6",
   "metadata": {},
   "source": [
    "7. State a character used to give single-line comments in python."
   ]
  },
  {
   "cell_type": "raw",
   "id": "13e1164c-4726-4a07-9e29-1a76423e5105",
   "metadata": {},
   "source": [
    "=> Hash character(#) is used to comment the line in the Python program. Comments does not have to be text to    explain the code, it can also be used to prevent Python from executing code. The hash character should be placed before the line to be commented"
   ]
  },
  {
   "cell_type": "raw",
   "id": "b4561f0e-24e8-4edd-8b4f-99ba640e805a",
   "metadata": {},
   "source": [
    "8. Mention functions which can help us to find the the version  of python that we are currently working on?"
   ]
  },
  {
   "cell_type": "raw",
   "id": "95d14d5c-7920-459d-94a9-bb70c12bd8a6",
   "metadata": {},
   "source": [
    "=> To get the Version of the python Interpreter, they are listed as follows:\n",
    "\n",
    "Using sys.version method\n",
    "Using python_version() function\n",
    "Using Python -V command"
   ]
  },
  {
   "cell_type": "raw",
   "id": "ee817639-de77-4eb4-a657-cc3042931263",
   "metadata": {},
   "source": [
    "9. Python supports thecreation of anonymous functions at runtine, using a construct called \"lambda\"."
   ]
  },
  {
   "cell_type": "raw",
   "id": "885e53c0-44f2-46a5-a01c-95c2b5dc775f",
   "metadata": {},
   "source": [
    "10. What does pip stand for in python?"
   ]
  },
  {
   "cell_type": "raw",
   "id": "fe2dc015-c53c-435f-b749-edb642663304",
   "metadata": {},
   "source": [
    "=> PIP in Python stands of \"Preferred Installer Program\"."
   ]
  },
  {
   "cell_type": "raw",
   "id": "593dc0b0-8215-4c6d-b099-945365008abe",
   "metadata": {},
   "source": [
    "11. Mention a few built-in functions in python."
   ]
  },
  {
   "cell_type": "raw",
   "id": "dcd3dda8-2f53-4ca7-858e-3c2d9821dd79",
   "metadata": {},
   "source": [
    "=> Some the few built-in functions in python are :-\n",
    "    print( ) function, type( ) function, input( ) function, max( ) function, len( ) function, sum( ) function"
   ]
  },
  {
   "cell_type": "raw",
   "id": "705e34af-c698-4015-bccc-24de95927f62",
   "metadata": {},
   "source": [
    "12. What is the maximum length of an identifier in Python?"
   ]
  },
  {
   "cell_type": "raw",
   "id": "500815f9-364e-451e-93db-f92ae9ab3d4b",
   "metadata": {},
   "source": [
    "=> The maximum length of an identifier in Python is 79 characters."
   ]
  },
  {
   "cell_type": "raw",
   "id": "08e15143-1c8f-4030-aaf0-4cf8579ee8b2",
   "metadata": {},
   "source": [
    "13. What are the benefits of using Python?"
   ]
  },
  {
   "cell_type": "raw",
   "id": "5b6b5435-068a-426d-9e02-ece7e261a7ed",
   "metadata": {},
   "source": [
    "=> Some of the many benefits of using python are mentioned as below:-\n",
    "1. Versatile Programming Paradigms\n",
    "2. Simple Code Readability\n",
    "3. Multiple Frameworks for Project Development\n",
    "4. Compatibility with Major Platforms\n",
    "5. Simplifies Complex Software Development\n",
    "6. Favours Big Data\n",
    "7. Encourages Test-Driven Development\n",
    "8. Powerful and Extensive Standard Library\n",
    "9. Integration with IoT(Internet of Things)\n",
    "10. Supports SEO(Serch Engine Optimization) Principles"
   ]
  },
  {
   "cell_type": "raw",
   "id": "c6ec8247-970d-4d13-85fd-28cf1fc4c0a5",
   "metadata": {},
   "source": [
    "14. How is memory managed in Python?"
   ]
  },
  {
   "cell_type": "raw",
   "id": "c02ab768-9a04-4688-b24a-3472f190a031",
   "metadata": {},
   "source": [
    "=> In order to manage memory, Python uses a private heap that houses all of its objects and data structures. The Python memory manager is responsible for internal administration of this private heap. Different parts of the Python memory manager deal with various dynamic storage management issues, such as sharing, segmentation, preallocation, or caching."
   ]
  },
  {
   "cell_type": "raw",
   "id": "77d3788d-ceac-4f08-b47b-5c7c1b6ffd19",
   "metadata": {},
   "source": [
    "15. How install python in windows and set path variables?"
   ]
  },
  {
   "cell_type": "raw",
   "id": "519dd80d-c4fc-43b9-8e89-16a48dfaadb9",
   "metadata": {},
   "source": [
    "=> Install python from this link https://www.python.org/downloads/\n",
    "After this, install it on your PC. Look for the location where PYTHON has been installed on your PC using the following command on your command prompt: cmd python.\n",
    "Then go to advanced system settings and add new variable and name it as PYTHON_NAME and paste the copied path.\n",
    "Then look for the path variable, select it's value and select edit\n",
    "Add a semicolon towards the end of the value if it's not present and then type %PYTHON_HOME%"
   ]
  },
  {
   "cell_type": "raw",
   "id": "39647456-bcbb-4e3f-ab76-07e0ac3dc503",
   "metadata": {},
   "source": [
    "16. Is indentation required in Python?"
   ]
  },
  {
   "cell_type": "raw",
   "id": "e6a7ac9a-f8bf-42eb-9ef9-b32a64c69b4e",
   "metadata": {},
   "source": [
    "=> The indentation in Python is very important. Python uses indentation to indicate a block of code."
   ]
  }
 ],
 "metadata": {
  "kernelspec": {
   "display_name": "Python 3 (ipykernel)",
   "language": "python",
   "name": "python3"
  },
  "language_info": {
   "codemirror_mode": {
    "name": "ipython",
    "version": 3
   },
   "file_extension": ".py",
   "mimetype": "text/x-python",
   "name": "python",
   "nbconvert_exporter": "python",
   "pygments_lexer": "ipython3",
   "version": "3.10.8"
  }
 },
 "nbformat": 4,
 "nbformat_minor": 5
}
