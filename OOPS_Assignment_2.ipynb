{
 "cells": [
  {
   "cell_type": "markdown",
   "id": "8ab0fe3b-e463-4698-8202-c8dcbdd62ef3",
   "metadata": {},
   "source": [
    "1. What is Abstraction in OOps? Explain with an example."
   ]
  },
  {
   "cell_type": "markdown",
   "id": "af96b29a-fe70-4685-9743-0b88589b0438",
   "metadata": {},
   "source": [
    "In object-oriented programming (OOP), abstraction is the process of hiding complex implementation details and providing a simplified interface for the user to interact with. This helps in reducing the complexity and improving the reusability of the code.\n",
    "\n",
    "In Python, abstraction can be achieved through abstract classes and interfaces. Abstract classes are classes that cannot be instantiated, and are meant to be subclassed to provide a concrete implementation. Interfaces, on the other hand, are collections of method signatures that define the behavior of an object, but not its implementation.\n",
    "\n",
    "Here's an example of abstraction in Python using an abstract class:"
   ]
  },
  {
   "cell_type": "code",
   "execution_count": 1,
   "id": "9240323c-75bf-497e-bd42-e8874d77340b",
   "metadata": {},
   "outputs": [
    {
     "name": "stdout",
     "output_type": "stream",
     "text": [
      "Dog is running\n",
      "Cat is jumping\n"
     ]
    }
   ],
   "source": [
    "from abc import ABC, abstractmethod\n",
    "\n",
    "class Animal(ABC):\n",
    "    @abstractmethod\n",
    "    def move(self):\n",
    "        pass\n",
    "\n",
    "class Dog(Animal):\n",
    "    def move(self):\n",
    "        print(\"Dog is running\")\n",
    "\n",
    "class Cat(Animal):\n",
    "    def move(self):\n",
    "        print(\"Cat is jumping\")\n",
    "\n",
    "dog = Dog()\n",
    "cat = Cat()\n",
    "\n",
    "dog.move()\n",
    "cat.move()"
   ]
  },
  {
   "cell_type": "markdown",
   "id": "41b38d4d-3b4b-427b-94f4-cd0f474d892d",
   "metadata": {},
   "source": [
    "In this example, Animal is an abstract class with an abstract method move(). The Dog and Cat classes inherit from Animal and provide their own implementation of the move() method. The user of these classes only needs to know that they have a move() method, without needing to know how it's implemented. This is abstraction in action."
   ]
  },
  {
   "cell_type": "markdown",
   "id": "e7ac345b-fe11-4b74-9fd0-93e80cf16822",
   "metadata": {},
   "source": [
    "2. Differentiate between Abstraction and Encapsulation. Explain with an example."
   ]
  },
  {
   "cell_type": "markdown",
   "id": "9d54a35a-c159-4612-ba42-cf1e10ca02d3",
   "metadata": {},
   "source": [
    "Abstraction and encapsulation are two fundamental concepts in object-oriented programming (OOP), including Python.\n",
    "\n",
    "Abstraction refers to the process of focusing on the essential features of an object, ignoring its non-essential characteristics. It enables us to represent complex systems in a simplified manner. In Python, we can achieve abstraction by using abstract classes or interfaces, which define a set of methods that the child classes must implement.\n",
    "\n",
    "Encapsulation refers to the process of hiding the implementation details of an object and exposing only the necessary information to the outside world. It helps in maintaining the integrity of the data and prevents accidental modification of data. In Python, we can achieve encapsulation by using access modifiers such as public, private, and protected.\n",
    "\n",
    "Let's see an example to understand the difference between abstraction and encapsulation in Python:"
   ]
  },
  {
   "cell_type": "code",
   "execution_count": 2,
   "id": "72ebb90e-49bd-4e6e-9458-268a0e51c7c3",
   "metadata": {},
   "outputs": [],
   "source": [
    "from abc import ABC, abstractmethod\n",
    "class Vehicle(ABC):\n",
    "    @abstractmethod\n",
    "    def start(self):\n",
    "        pass\n",
    "    @abstractmethod\n",
    "    def stop(self):\n",
    "        pass\n",
    "class Car(Vehicle):\n",
    "    def start(self):\n",
    "        print(\"Car started.\")\n",
    "    def stop(self):\n",
    "        print(\"Car stopped.\")"
   ]
  },
  {
   "cell_type": "markdown",
   "id": "b79cc9b7-bfb6-4fc5-98dd-ef997c747a54",
   "metadata": {},
   "source": [
    "In the above example, the Vehicle class is an abstract class that defines the methods start() and stop(). The Car class is a concrete class that inherits from the Vehicle class and implements the abstract methods. Here, we are abstracting the concept of a vehicle and providing a simplified interface for its usage."
   ]
  },
  {
   "cell_type": "code",
   "execution_count": 3,
   "id": "256d0314-14a5-48d4-b424-0fbee4998fc8",
   "metadata": {},
   "outputs": [
    {
     "name": "stdout",
     "output_type": "stream",
     "text": [
      "Name: John\n",
      "Age: 30\n",
      "Salary: 0\n",
      "Name: John\n",
      "Age: 35\n",
      "Salary: 0\n"
     ]
    }
   ],
   "source": [
    "class Person:    \n",
    "    def __init__(self, name, age):\n",
    "        self.name = name\n",
    "        self._age = age\n",
    "        self.__salary = 0\n",
    "    def display_info(self):\n",
    "        print(\"Name:\", self.name)\n",
    "        print(\"Age:\", self._age)\n",
    "        print(\"Salary:\", self.__salary)\n",
    "p = Person(\"John\", 30)\n",
    "p.display_info()\n",
    "p._age = 35\n",
    "p.__salary = 10000\n",
    "p.display_info()"
   ]
  },
  {
   "cell_type": "markdown",
   "id": "6d1b2ec9-e4f1-41ca-85b8-56cbed5b2acb",
   "metadata": {},
   "source": [
    "In the above example, the Person class has three attributes: name, _age, and __salary. The _age attribute is marked as protected, and the __salary attribute is marked as private. The display_info() method is used to display the information about the person. Here, we are encapsulating the implementation details of the Person class and exposing only the necessary information to the outside world. The __salary attribute cannot be accessed from outside the class, and any attempt to modify it will result in an error. The _age attribute can be accessed from outside the class, but it is marked as protected, which indicates that it should not be modified directly."
   ]
  },
  {
   "cell_type": "markdown",
   "id": "c896aeae-9bbe-43ad-891d-18f6dd7d028f",
   "metadata": {},
   "source": [
    "3. What is abc module in python? Why is it used?"
   ]
  },
  {
   "cell_type": "markdown",
   "id": "b26c4a3a-7b13-49ee-b842-2fde58995cbe",
   "metadata": {},
   "source": [
    "The abc module in Python stands for \"Abstract Base Classes.\" It provides the infrastructure for defining abstract classes, which are classes that cannot be instantiated on their own but can only be used as base classes for other classes.\n",
    "\n",
    "The abc module is used to implement the concept of abstraction in Python. It enables us to define abstract classes and abstract methods, which can be used as a blueprint for other classes. The abstract classes define a set of methods that must be implemented by the child classes.\n",
    "\n",
    "The abc module is useful in situations where we want to define a set of methods that must be implemented by multiple classes, but the implementation details of those methods may differ for each class. By defining the abstract methods in a base class, we can ensure that all the child classes implement those methods and provide the necessary functionality.\n",
    "\n",
    "Here's an example that demonstrates the use of the abc module:"
   ]
  },
  {
   "cell_type": "code",
   "execution_count": 4,
   "id": "0bd2389f-7a6f-416a-bfa7-c63206b46932",
   "metadata": {},
   "outputs": [
    {
     "name": "stdout",
     "output_type": "stream",
     "text": [
      "Car started.\n",
      "Car stopped.\n",
      "Bike started.\n",
      "Bike stopped.\n"
     ]
    }
   ],
   "source": [
    "from abc import ABC, abstractmethod\n",
    "class Vehicle(ABC):\n",
    "    @abstractmethod\n",
    "    def start(self):\n",
    "        pass\n",
    "    @abstractmethod\n",
    "    def stop(self):\n",
    "        pass\n",
    "class Car(Vehicle):\n",
    "    def start(self):\n",
    "        print(\"Car started.\")\n",
    "    def stop(self):\n",
    "        print(\"Car stopped.\")\n",
    "class Bike(Vehicle):\n",
    "    def start(self):\n",
    "        print(\"Bike started.\")\n",
    "    def stop(self):\n",
    "        print(\"Bike stopped.\")\n",
    "car = Car()\n",
    "car.start()\n",
    "car.stop()\n",
    "\n",
    "bike = Bike()\n",
    "bike.start()\n",
    "bike.stop()"
   ]
  },
  {
   "cell_type": "markdown",
   "id": "0095f809-6bdb-435b-8d05-062727615733",
   "metadata": {},
   "source": [
    "In this example, we have defined an abstract class Vehicle using the abc module. The Vehicle class defines two abstract methods start() and stop(), which must be implemented by the child classes.\n",
    "\n",
    "The Car and Bike classes inherit from the Vehicle class and implement the abstract methods. Here, the implementation details of the start() and stop() methods are different for each class, but both classes provide the necessary functionality.\n",
    "\n",
    "When we try to create an instance of the Vehicle class, it will result in an error since it is an abstract class and cannot be instantiated on its own. However, we can create instances of the Car and Bike classes, which implement the necessary functionality."
   ]
  },
  {
   "cell_type": "markdown",
   "id": "850d9e80-1921-4ac1-bb3b-c013a679b5be",
   "metadata": {},
   "source": [
    "4. How can we achieve data abstraction?"
   ]
  },
  {
   "cell_type": "markdown",
   "id": "a8aac6c3-d990-4503-ba21-cecda974b6d9",
   "metadata": {},
   "source": [
    "In Python, we can achieve data abstraction by using abstract classes or interfaces, which define a set of methods that the child classes must implement. By defining an abstract class, we can specify a set of methods that must be implemented by the child classes, without providing the implementation details. This enables us to represent complex systems in a simplified manner.\n",
    "\n",
    "Here's an example that demonstrates how to achieve data abstraction in Python using abstract classes:"
   ]
  },
  {
   "cell_type": "code",
   "execution_count": 5,
   "id": "5e7a6686-a64f-4808-b70c-97660bc37b8f",
   "metadata": {},
   "outputs": [
    {
     "name": "stdout",
     "output_type": "stream",
     "text": [
      "Rectangle area: 20\n",
      "Rectangle perimeter: 18\n",
      "Circle area: 153.86\n",
      "Circle perimeter: 43.96\n"
     ]
    }
   ],
   "source": [
    "from abc import ABC, abstractmethod\n",
    "\n",
    "class Shape(ABC):\n",
    "    @abstractmethod\n",
    "    def area(self):\n",
    "        pass\n",
    "    @abstractmethod\n",
    "    def perimeter(self):\n",
    "        pass\n",
    "    \n",
    "class Rectangle(Shape):\n",
    "    def __init__(self, length, width):\n",
    "        self.length = length\n",
    "        self.width = width\n",
    "    def area(self):\n",
    "        return self.length * self.width\n",
    "    def perimeter(self):\n",
    "        return 2 * (self.length + self.width)\n",
    "\n",
    "class Circle(Shape):\n",
    "    def __init__(self, radius):\n",
    "        self.radius = radius\n",
    "    def area(self):\n",
    "        return 3.14 * self.radius ** 2\n",
    "    def perimeter(self):\n",
    "        return 2 * 3.14 * self.radius\n",
    "\n",
    "rect = Rectangle(5, 4)\n",
    "print(\"Rectangle area:\", rect.area())\n",
    "print(\"Rectangle perimeter:\", rect.perimeter())\n",
    "\n",
    "circ = Circle(7)\n",
    "print(\"Circle area:\", circ.area())\n",
    "print(\"Circle perimeter:\", circ.perimeter())"
   ]
  },
  {
   "cell_type": "markdown",
   "id": "a07fa89b-232b-4534-85c4-37ccaf0ff48e",
   "metadata": {},
   "source": [
    "In this example, we have defined an abstract class Shape using the abc module. The Shape class defines two abstract methods area() and perimeter(), which must be implemented by the child classes.\n",
    "\n",
    "The Rectangle and Circle classes inherit from the Shape class and implement the abstract methods. Here, the implementation details of the area() and perimeter() methods are different for each class, but both classes provide the necessary functionality to calculate the area and perimeter of the shape.\n",
    "\n",
    "When we try to create an instance of the Shape class, it will result in an error since it is an abstract class and cannot be instantiated on its own. However, we can create instances of the Rectangle and Circle classes, which implement the necessary functionality to calculate the area and perimeter of the shape.\n",
    "\n",
    "By using the Shape abstract class, we can achieve data abstraction in Python and represent complex systems in a simplified manner."
   ]
  },
  {
   "cell_type": "markdown",
   "id": "e0a10d23-bfa4-4da2-a733-ef08ef9aa467",
   "metadata": {},
   "source": [
    "5. Can we create an instance of an abstract class? Explain your answer."
   ]
  },
  {
   "cell_type": "markdown",
   "id": "f6c4f371-e594-4b91-adb8-9f0c1ef85a80",
   "metadata": {},
   "source": [
    "No, we cannot create an instance of an abstract class in Python. An abstract class is a class that contains one or more abstract methods, which are defined but not implemented in the abstract class. An abstract class is meant to be a blueprint for other classes to inherit from and implement the abstract methods.\n",
    "\n",
    "In Python, we use the abc module to define abstract classes. We can mark a method as abstract using the @abstractmethod decorator. An abstract method is a method that is declared but does not have an implementation. Here is an example:"
   ]
  },
  {
   "cell_type": "code",
   "execution_count": 6,
   "id": "ea59315e-ead4-4036-958b-a5d9bb65fea5",
   "metadata": {},
   "outputs": [
    {
     "ename": "TypeError",
     "evalue": "Can't instantiate abstract class AbstractClass with abstract method do_something",
     "output_type": "error",
     "traceback": [
      "\u001b[0;31m---------------------------------------------------------------------------\u001b[0m",
      "\u001b[0;31mTypeError\u001b[0m                                 Traceback (most recent call last)",
      "Cell \u001b[0;32mIn[6], line 11\u001b[0m\n\u001b[1;32m      9\u001b[0m     \u001b[38;5;28;01mdef\u001b[39;00m \u001b[38;5;21mdo_something\u001b[39m(\u001b[38;5;28mself\u001b[39m):\n\u001b[1;32m     10\u001b[0m         \u001b[38;5;28mprint\u001b[39m(\u001b[38;5;124m\"\u001b[39m\u001b[38;5;124mDoing something in ConcreteClass\u001b[39m\u001b[38;5;124m\"\u001b[39m)\n\u001b[0;32m---> 11\u001b[0m my_abstract_object \u001b[38;5;241m=\u001b[39m \u001b[43mAbstractClass\u001b[49m\u001b[43m(\u001b[49m\u001b[43m)\u001b[49m\n",
      "\u001b[0;31mTypeError\u001b[0m: Can't instantiate abstract class AbstractClass with abstract method do_something"
     ]
    }
   ],
   "source": [
    "from abc import ABC, abstractmethod\n",
    "\n",
    "class AbstractClass(ABC):\n",
    "    @abstractmethod\n",
    "    def do_something(self):\n",
    "        pass\n",
    "\n",
    "class ConcreteClass(AbstractClass):\n",
    "    def do_something(self):\n",
    "        print(\"Doing something in ConcreteClass\")\n",
    "my_abstract_object = AbstractClass()"
   ]
  },
  {
   "cell_type": "markdown",
   "id": "8bfc78ee-3b06-4557-a6ae-6cdda3f9e8c6",
   "metadata": {},
   "source": [
    "In this example, we have defined an abstract class AbstractClass that contains an abstract method do_something(). We have also defined a concrete class ConcreteClass that inherits from the AbstractClass and implements the abstract method.\n",
    "\n",
    "If we try to create an instance of the AbstractClass, it will raise a TypeError because we cannot create an object of an abstract class. We can only create an object of a concrete class that inherits from the abstract class and implements all the abstract methods.\n",
    "\n",
    "So, to use an abstract class in Python, we need to create a concrete class that inherits from the abstract class and provides the implementation of all the abstract methods."
   ]
  }
 ],
 "metadata": {
  "kernelspec": {
   "display_name": "Python 3 (ipykernel)",
   "language": "python",
   "name": "python3"
  },
  "language_info": {
   "codemirror_mode": {
    "name": "ipython",
    "version": 3
   },
   "file_extension": ".py",
   "mimetype": "text/x-python",
   "name": "python",
   "nbconvert_exporter": "python",
   "pygments_lexer": "ipython3",
   "version": "3.10.8"
  }
 },
 "nbformat": 4,
 "nbformat_minor": 5
}
