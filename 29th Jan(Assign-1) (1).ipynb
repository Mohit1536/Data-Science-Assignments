{
 "cells": [
  {
   "cell_type": "code",
   "execution_count": null,
   "id": "906bca48-ead9-49ca-a714-19481fda0cf6",
   "metadata": {},
   "outputs": [],
   "source": [
    "1. Who developed Python Programming Language?"
   ]
  },
  {
   "cell_type": "code",
   "execution_count": null,
   "id": "ce4fcb4f-8375-48ea-a965-021351e95bcd",
   "metadata": {},
   "outputs": [],
   "source": [
    "=> Python was developed by Guido van Rossum on February 1991."
   ]
  },
  {
   "cell_type": "code",
   "execution_count": null,
   "id": "abc0f53a-dbdc-4938-bc0f-0687fc2f8005",
   "metadata": {},
   "outputs": [],
   "source": [
    "2. Which Type of Programming does Python support?"
   ]
  },
  {
   "cell_type": "code",
   "execution_count": null,
   "id": "208465a1-6cb6-4654-9c0a-44cff24e399a",
   "metadata": {},
   "outputs": [],
   "source": [
    "=> Python is an interpreted programming language, supporting object-oriented, \n",
    "   structured, and functional programming."
   ]
  },
  {
   "cell_type": "code",
   "execution_count": null,
   "id": "d2ad176b-2a77-478b-820f-1c74f3b1420b",
   "metadata": {},
   "outputs": [],
   "source": [
    "3. Is Python Case Sensitive while dealing with Identifiers?"
   ]
  },
  {
   "cell_type": "code",
   "execution_count": null,
   "id": "4eb539a9-0578-49c8-a33c-3520c00aa4f8",
   "metadata": {},
   "outputs": [],
   "source": [
    "=> Yes, Python is a case-sensitive language, which applies to the identifiers too."
   ]
  },
  {
   "cell_type": "code",
   "execution_count": null,
   "id": "6c8c6d21-b8bd-42b4-bdb4-9a2149fb172e",
   "metadata": {},
   "outputs": [],
   "source": [
    "4. What is the correct extension of python file?"
   ]
  },
  {
   "cell_type": "code",
   "execution_count": null,
   "id": "f1823f5b-3be9-4280-8a6b-65b1d283b2eb",
   "metadata": {},
   "outputs": [],
   "source": [
    "=> The correct extension of a python file is \".py\"."
   ]
  },
  {
   "cell_type": "code",
   "execution_count": null,
   "id": "0f713130-a443-4da5-ae28-4728dbb5565b",
   "metadata": {},
   "outputs": [],
   "source": [
    "5. Is Python code compiled or interpreted?"
   ]
  },
  {
   "cell_type": "code",
   "execution_count": null,
   "id": "87044fb8-2f9e-40ec-b7f6-90ea17404282",
   "metadata": {},
   "outputs": [],
   "source": [
    "=> Python is an interpreted language, which means the source code of a Python program is converted into bytecode\n",
    "   and then executed by the Python virtual machine."
   ]
  },
  {
   "cell_type": "code",
   "execution_count": null,
   "id": "2f5ba24f-3cb7-40fa-a2cb-5192a5d11245",
   "metadata": {},
   "outputs": [],
   "source": [
    "6. Name a few blocks of code used to define in Python Language?"
   ]
  },
  {
   "cell_type": "code",
   "execution_count": null,
   "id": "d7fe23b0-f7d4-4804-b97f-4609531439ab",
   "metadata": {},
   "outputs": [],
   "source": [
    "=> A block is a piece of Python program text that is executed as a unit. The following are blocks:\n",
    "   a module, a function body, and a class definition. Each command typed interactively is a block."
   ]
  },
  {
   "cell_type": "code",
   "execution_count": null,
   "id": "7dce957e-87ed-489b-ba45-a156229752a5",
   "metadata": {},
   "outputs": [],
   "source": [
    "7. State a character used to give single-line comments in python."
   ]
  },
  {
   "cell_type": "code",
   "execution_count": null,
   "id": "7cbe3220-2b01-4b5c-add4-31ebb80569e7",
   "metadata": {},
   "outputs": [],
   "source": [
    "=> Hash character \"#\" is used to comment the line in the Python program.\n",
    "Comments does not have to be text to explain the code, it can also be used to prevent Python\n",
    "from executing code. The hash character should be placed before the line to be commented"
   ]
  },
  {
   "cell_type": "code",
   "execution_count": null,
   "id": "a38fa9b8-12f5-4e5b-8526-c20eb8f6537a",
   "metadata": {},
   "outputs": [],
   "source": [
    "8. Mention functions which can help us to find the the version  of python that we are currently working on?"
   ]
  },
  {
   "cell_type": "code",
   "execution_count": null,
   "id": "d0641b37-ee7c-47a5-a6be-585089020a35",
   "metadata": {},
   "outputs": [],
   "source": [
    "=> To get the Version of the python Interpreter, they are listed as follows:\n",
    "\n",
    "Using sys.version method\n",
    "Using python_version() function\n",
    "Using Python -V command"
   ]
  },
  {
   "cell_type": "code",
   "execution_count": null,
   "id": "20e29418-1ba3-426b-8ca9-5c502ce3b2a1",
   "metadata": {},
   "outputs": [],
   "source": [
    "9. Python supports thecreation of anonymous functions at runtine, using a construct called \"lambda\"."
   ]
  },
  {
   "cell_type": "code",
   "execution_count": null,
   "id": "b9bd1c56-f1af-4a5f-b888-e330e7e7bfd7",
   "metadata": {},
   "outputs": [],
   "source": [
    "10. What does pip stand for in python?"
   ]
  },
  {
   "cell_type": "code",
   "execution_count": null,
   "id": "bb1ff6a0-3e89-4058-b4c2-0d6502784a14",
   "metadata": {},
   "outputs": [],
   "source": [
    "=> PIP in Python stands of \"Preferred Installer Program\"."
   ]
  },
  {
   "cell_type": "code",
   "execution_count": null,
   "id": "735bbc2b-f1a6-48d6-a673-f2edcd84d5c8",
   "metadata": {},
   "outputs": [],
   "source": [
    "11. Mention a few built-in functions in python."
   ]
  },
  {
   "cell_type": "code",
   "execution_count": null,
   "id": "dcae9c31-0c5b-49e7-b7d3-21db3fbfcc60",
   "metadata": {},
   "outputs": [],
   "source": [
    "=> Some the few built-in functions in python are :-\n",
    "    print( ) function, type( ) function, input( ) function, max( ) function, len( ) function, sum( ) function"
   ]
  },
  {
   "cell_type": "code",
   "execution_count": null,
   "id": "a5b10305-6591-4542-89e0-f0c1d2352c6e",
   "metadata": {},
   "outputs": [],
   "source": [
    "12. What is the maximum length of an identifier in Python?"
   ]
  },
  {
   "cell_type": "code",
   "execution_count": null,
   "id": "5226a8f4-d480-4c8d-be78-e5c9668ad380",
   "metadata": {},
   "outputs": [],
   "source": [
    "=> The maximum length of an identifier in Python is 79 characters."
   ]
  },
  {
   "cell_type": "code",
   "execution_count": null,
   "id": "0412e141-5175-4d72-a3a6-0ee7832803d8",
   "metadata": {},
   "outputs": [],
   "source": [
    "13. What are the benefits of using Python?"
   ]
  },
  {
   "cell_type": "code",
   "execution_count": null,
   "id": "f36edc48-f466-4cdf-9f42-ab79078093fb",
   "metadata": {},
   "outputs": [],
   "source": [
    "=> Some of the many benefits of using python are mentioned as below:-\n",
    "1. Versatile Programming Paradigms\n",
    "2. Simple Code Readability\n",
    "3. Multiple Frameworks for Project Development\n",
    "4. Compatibility with Major Platforms\n",
    "5. Simplifies Complex Software Development\n",
    "6. Favours Big Data\n",
    "7. Encourages Test-Driven Development\n",
    "8. Powerful and Extensive Standard Library\n",
    "9. Integration with IoT(Internet of Things)\n",
    "10. Supports SEO(Serch Engine Optimization) Principles"
   ]
  },
  {
   "cell_type": "code",
   "execution_count": null,
   "id": "7fa8f03b-27fe-4324-809d-a37ab461876e",
   "metadata": {},
   "outputs": [],
   "source": [
    "14. How is memory managed in Python?"
   ]
  },
  {
   "cell_type": "code",
   "execution_count": null,
   "id": "825a64b7-295f-4cd5-b706-fda98b5b5695",
   "metadata": {},
   "outputs": [],
   "source": [
    "=> In order to manage memory, Python uses a private heap that houses all of its objects and data structures.\n",
    "The Python memory manager is responsible for internal administration of this private heap. \n",
    "Different parts of the Python memory manager deal with various dynamic storage management issues,\n",
    "such as sharing, segmentation, preallocation, or caching."
   ]
  },
  {
   "cell_type": "code",
   "execution_count": null,
   "id": "e9501149-8b5c-499b-ae78-777e1fb1ca6a",
   "metadata": {},
   "outputs": [],
   "source": [
    "15. How install python in windows and set path variables?"
   ]
  },
  {
   "cell_type": "code",
   "execution_count": null,
   "id": "c6e7b886-d5d0-4ece-a73d-15a5cd0583f0",
   "metadata": {},
   "outputs": [],
   "source": [
    "=> Install python from this link https://www.python.org/downloads/\n",
    "After this, install it on your PC. Look for the location where PYTHON has been installed on your PC \n",
    "using the following command on your command prompt: cmd python.\n",
    "Then go to advanced system settings and add new variable and name it as PYTHON_NAME and paste the copied path.\n",
    "Then look for the path variable, select it's value and select edit\n",
    "Add a semicolon towards the end of the value if it's not present and then type %PYTHON_HOME%"
   ]
  },
  {
   "cell_type": "code",
   "execution_count": null,
   "id": "9d664a3e-838f-4e7d-bf23-cce8e4038837",
   "metadata": {},
   "outputs": [],
   "source": [
    "16. Is indentation required in Python?"
   ]
  },
  {
   "cell_type": "code",
   "execution_count": null,
   "id": "021623c1-1f31-4bb9-9a76-bad5a8705fd7",
   "metadata": {},
   "outputs": [],
   "source": [
    "=> The indentation in Python is very important. Python uses indentation to indicate a block of code."
   ]
  }
 ],
 "metadata": {
  "kernelspec": {
   "display_name": "Python 3 (ipykernel)",
   "language": "python",
   "name": "python3"
  },
  "language_info": {
   "codemirror_mode": {
    "name": "ipython",
    "version": 3
   },
   "file_extension": ".py",
   "mimetype": "text/x-python",
   "name": "python",
   "nbconvert_exporter": "python",
   "pygments_lexer": "ipython3",
   "version": "3.10.8"
  }
 },
 "nbformat": 4,
 "nbformat_minor": 5
}
