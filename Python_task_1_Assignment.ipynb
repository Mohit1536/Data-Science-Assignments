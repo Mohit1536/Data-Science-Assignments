{
 "cells": [
  {
   "cell_type": "markdown",
   "id": "87f23fc2-dcfc-4598-bde0-de757f7ffefb",
   "metadata": {},
   "source": [
    "1. Create a function which will take a list as an argument and return the product of all the numbers\n",
    "after creating a flat list.\n",
    "\n",
    "Use the below-given list as an argument for your function.\n",
    "\n",
    "list1 = [1,2,3,4, [44,55,66, True], False, (34,56,78,89,34), {1,2,3,3,2,1}, {1:34, \"key2\": [55, 67, 78, 89], 4: (45,\n",
    "22, 61, 34)}, [56, 'data science'], 'Machine Learning']\n",
    "\n",
    "Note: you must extract numeric keys and values of the dictionary also."
   ]
  },
  {
   "cell_type": "code",
   "execution_count": 11,
   "id": "d6b6cba3-5fcb-40e4-a367-e2c502efc67b",
   "metadata": {},
   "outputs": [],
   "source": [
    "def product_of_numbers(lst):\n",
    "    flat_lst = []\n",
    "    for item in lst:\n",
    "        if isinstance(item, (list, tuple, set)):\n",
    "            flat_lst.extend(list(filter(lambda x: isinstance(x, (int, float)), item)))\n",
    "        elif isinstance(item, dict):\n",
    "            flat_lst.extend(list(filter(lambda x: isinstance(x, (int, float)), item.keys())))\n",
    "            flat_lst.extend(list(filter(lambda x: isinstance(x, (int, float)), item.values())))\n",
    "        elif isinstance(item, (int, float)):\n",
    "            flat_lst.append(item)\n",
    "    product = 1\n",
    "    for num in flat_lst:\n",
    "        product *= num\n",
    "    return product"
   ]
  },
  {
   "cell_type": "code",
   "execution_count": 13,
   "id": "ae8b3528-555e-4e4b-a1b7-aabc561641d8",
   "metadata": {},
   "outputs": [
    {
     "name": "stdout",
     "output_type": "stream",
     "text": [
      "0\n"
     ]
    }
   ],
   "source": [
    "list1 = [1,2,3,4, [44,55,66, True], False, (34,56,78,89,34), {1,2,3,3,2,1},\n",
    "         {1:34, \"key2\": [55, 67, 78, 89], 4: (45,22, 61, 34)}, [56, 'data science'], 'Machine Learning']\n",
    "result = product_of_numbers(list1)\n",
    "print(result)"
   ]
  },
  {
   "cell_type": "markdown",
   "id": "61052f4c-de0e-4ad2-b94f-db4261c54e61",
   "metadata": {},
   "source": [
    "2. Write a python program for encrypting a message sent to you by your friend. The logic of encryption should be such that, for a the output should be z. For b, the output should be y. For c, the output should be x respectively. Also, the whitespace should be replaced with a dollar sign. Keep the punctuation marks unchanged.\n",
    "\n",
    "Input Sentence: I want to become a Data Scientist.\n",
    "\n",
    "Encrypt the above input sentence using the program you just created.\n",
    "\n",
    "Note: Convert the given input sentence into lowercase before encrypting. The final output should be lowercase."
   ]
  },
  {
   "cell_type": "code",
   "execution_count": 14,
   "id": "e5bebd3f-9d81-4067-bb56-90efcb63eb19",
   "metadata": {},
   "outputs": [
    {
     "name": "stdout",
     "output_type": "stream",
     "text": [
      "r$dzmg$gl$yvxlnv$z$wzgz$hxrvmgrhg.\n"
     ]
    }
   ],
   "source": [
    "def encrypt_message(message):\n",
    "    trans_table = str.maketrans('abcdefghijklmnopqrstuvwxyz ', 'zyxwvutsrqponmlkjihgfedcba$')\n",
    "    encrypted_msg = message.lower().translate(trans_table)\n",
    "    return encrypted_msg\n",
    "input_sentence = \"I want to become a Data Scientist.\"\n",
    "encrypted_message = encrypt_message(input_sentence)\n",
    "print(encrypted_message)"
   ]
  }
 ],
 "metadata": {
  "kernelspec": {
   "display_name": "Python 3 (ipykernel)",
   "language": "python",
   "name": "python3"
  },
  "language_info": {
   "codemirror_mode": {
    "name": "ipython",
    "version": 3
   },
   "file_extension": ".py",
   "mimetype": "text/x-python",
   "name": "python",
   "nbconvert_exporter": "python",
   "pygments_lexer": "ipython3",
   "version": "3.10.8"
  }
 },
 "nbformat": 4,
 "nbformat_minor": 5
}
