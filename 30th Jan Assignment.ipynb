{
 "cells": [
  {
   "cell_type": "markdown",
   "id": "17b71776-176d-474e-8d34-adda45bb6bbc",
   "metadata": {},
   "source": [
    "1. Write a program to accept percentage from the user and display the grade according to the following criteria.\n",
    "    Greater than 90=A, Between 80 and 90 = B, Between 60 and 80 = C, Below 60 = D"
   ]
  },
  {
   "cell_type": "code",
   "execution_count": null,
   "id": "c56ffa96-6897-447f-83e4-c66a025c123f",
   "metadata": {},
   "outputs": [],
   "source": [
    "def per_test(per):\n",
    "    if(per>90):\n",
    "        grade = \"A\"\n",
    "    elif(per>80 and per<=90):\n",
    "        grade = \"B\"\n",
    "    elif(per>60 and per<=80):\n",
    "        grade = \"C\"\n",
    "    else:\n",
    "        grade = \"D\"\n",
    "    print (\"The grade of the student is: \", grade)"
   ]
  },
  {
   "cell_type": "code",
   "execution_count": null,
   "id": "7818c4c4-24a8-40a0-bbcf-a69213eb52ff",
   "metadata": {},
   "outputs": [
    {
     "name": "stdin",
     "output_type": "stream",
     "text": [
      "Please enter the percentage:  95\n"
     ]
    },
    {
     "name": "stdout",
     "output_type": "stream",
     "text": [
      "The grade of the student is:  A\n"
     ]
    }
   ],
   "source": [
    "a=per_test(float(input(\"Please enter the percentage: \")))"
   ]
  },
  {
   "cell_type": "code",
   "execution_count": null,
   "id": "726ce5e5-74f5-4cae-b021-87972c2d4796",
   "metadata": {},
   "outputs": [
    {
     "name": "stdin",
     "output_type": "stream",
     "text": [
      "Please enter the percentage:  85\n"
     ]
    },
    {
     "name": "stdout",
     "output_type": "stream",
     "text": [
      "The grade of the student is:  B\n"
     ]
    }
   ],
   "source": [
    "b=per_test(float(input(\"Please enter the percentage: \")))"
   ]
  },
  {
   "cell_type": "code",
   "execution_count": null,
   "id": "325c419a-926a-4ac1-a37e-e3b6adb49c3c",
   "metadata": {},
   "outputs": [
    {
     "name": "stdin",
     "output_type": "stream",
     "text": [
      "Please enter the percentage:  75\n"
     ]
    },
    {
     "name": "stdout",
     "output_type": "stream",
     "text": [
      "The grade of the student is:  C\n"
     ]
    }
   ],
   "source": [
    "c= per_test(float(input(\"Please enter the percentage: \")))"
   ]
  },
  {
   "cell_type": "code",
   "execution_count": null,
   "id": "47594408-8848-4953-a290-e9a333ff88ad",
   "metadata": {},
   "outputs": [
    {
     "name": "stdin",
     "output_type": "stream",
     "text": [
      "Please enter the percentage:  55\n"
     ]
    },
    {
     "name": "stdout",
     "output_type": "stream",
     "text": [
      "The grade of the student is:  D\n"
     ]
    }
   ],
   "source": [
    "d= per_test(float(input(\"Please enter the percentage: \")))"
   ]
  },
  {
   "cell_type": "markdown",
   "id": "413ea1ae-1dce-45e1-92d1-a6057aced6ea",
   "metadata": {},
   "source": [
    "2. Write a program to accept the cost price of a bike and display the road tax to be paid according to the following criteria:\n",
    "    (A) 15% if greater than 1,00,000. (B) 10% if between 50,000 and 1,00,000. (C) 5% if less than or equal to 50,000."
   ]
  },
  {
   "cell_type": "code",
   "execution_count": null,
   "id": "1883d897-0e04-45d7-ade7-fafc20545ad4",
   "metadata": {},
   "outputs": [],
   "source": [
    "def road_tax(cost):\n",
    "    if(cost>100000):\n",
    "        tax = cost*15/100\n",
    "    elif(cost>50000 and cost<=100000):\n",
    "        tax = cost*10/100\n",
    "    else:\n",
    "        tax = cost*5/100\n",
    "    print (\"The tax that you need to pay is: \", tax)"
   ]
  },
  {
   "cell_type": "code",
   "execution_count": null,
   "id": "48ecce94-5bef-4c8d-8205-0fb8c93b657a",
   "metadata": {},
   "outputs": [
    {
     "name": "stdin",
     "output_type": "stream",
     "text": [
      "Please enter the cost of bike:  110000\n"
     ]
    },
    {
     "name": "stdout",
     "output_type": "stream",
     "text": [
      "The tax that you need to pay is:  16500.0\n"
     ]
    }
   ],
   "source": [
    "a= road_tax(float(input(\"Please enter the cost of bike: \")))"
   ]
  },
  {
   "cell_type": "code",
   "execution_count": null,
   "id": "6484b0df-d85d-4040-8a5d-e90d26a828f8",
   "metadata": {},
   "outputs": [
    {
     "name": "stdin",
     "output_type": "stream",
     "text": [
      "Please enter the cost of bike:  65000\n"
     ]
    },
    {
     "name": "stdout",
     "output_type": "stream",
     "text": [
      "The tax that you need to pay is:  6500.0\n"
     ]
    }
   ],
   "source": [
    "b = road_tax(float(input(\"Please enter the cost of bike: \")))"
   ]
  },
  {
   "cell_type": "code",
   "execution_count": null,
   "id": "2e3d026b-3775-4d97-8408-1548e3d57b54",
   "metadata": {},
   "outputs": [
    {
     "name": "stdin",
     "output_type": "stream",
     "text": [
      "Please enter the cost of bike:  45000\n"
     ]
    },
    {
     "name": "stdout",
     "output_type": "stream",
     "text": [
      "The tax that you need to pay is:  2250.0\n"
     ]
    }
   ],
   "source": [
    "c= road_tax(float(input(\"Please enter the cost of bike: \")))"
   ]
  },
  {
   "cell_type": "markdown",
   "id": "25696fa5-8b54-448a-a13a-4f0d18f603b8",
   "metadata": {},
   "source": [
    "3. Accept any city from the user and display monuments of that city.(Delhi: Red Fort, Agra: Taj Mahal, Jaipur: Jal Mahal)"
   ]
  },
  {
   "cell_type": "code",
   "execution_count": null,
   "id": "ed0fbc14-2819-475d-8052-4199c3014092",
   "metadata": {},
   "outputs": [],
   "source": [
    "def monument(city):\n",
    "    if(city==\"Delhi\"):\n",
    "        monument = \"Red Fort\"\n",
    "    elif(city==\"Agra\"):\n",
    "        monument = \"Taj Mahal\"\n",
    "    elif(city==\"Jaipur\"):\n",
    "        monument = \"Jal Mahal\"\n",
    "    print(\"The monument of the city\", city, \" is \", monument)"
   ]
  },
  {
   "cell_type": "code",
   "execution_count": null,
   "id": "4669e585-981f-4c6d-b287-4106ec0b43ba",
   "metadata": {},
   "outputs": [
    {
     "name": "stdin",
     "output_type": "stream",
     "text": [
      "Please enter the name of the city:  Delhi\n"
     ]
    },
    {
     "name": "stdout",
     "output_type": "stream",
     "text": [
      "The monument of the city Delhi  is  Red Fort\n"
     ]
    }
   ],
   "source": [
    "a = monument(input(\"Please enter the name of the city: \"))"
   ]
  },
  {
   "cell_type": "code",
   "execution_count": null,
   "id": "ff10df7e-5df4-4f52-8a0d-f48ef1711271",
   "metadata": {},
   "outputs": [
    {
     "name": "stdin",
     "output_type": "stream",
     "text": [
      "Please enter the name of the city:  Agra\n"
     ]
    },
    {
     "name": "stdout",
     "output_type": "stream",
     "text": [
      "The monument of the city Agra  is  Taj Mahal\n"
     ]
    }
   ],
   "source": [
    "b = monument(input(\"Please enter the name of the city: \"))"
   ]
  },
  {
   "cell_type": "code",
   "execution_count": null,
   "id": "ddd42cae-f031-4e4c-b53f-964929904839",
   "metadata": {},
   "outputs": [
    {
     "name": "stdin",
     "output_type": "stream",
     "text": [
      "Please enter the name of the city:  Jaipur\n"
     ]
    },
    {
     "name": "stdout",
     "output_type": "stream",
     "text": [
      "The monument of the city Jaipur  is  Jal Mahal\n"
     ]
    }
   ],
   "source": [
    "c= monument(input(\"Please enter the name of the city: \"))"
   ]
  },
  {
   "cell_type": "markdown",
   "id": "042291b3-5e23-404f-9236-4b527bc2248d",
   "metadata": {},
   "source": [
    "4. Check how many times a number can be divided by 3 before it is less than or equal to 10."
   ]
  },
  {
   "cell_type": "code",
   "execution_count": null,
   "id": "c0632132-7a5b-4d71-822e-ba033cd690b0",
   "metadata": {},
   "outputs": [],
   "source": [
    "def divide(no):\n",
    "    count = 0\n",
    "    while no>10:\n",
    "        no=no/3\n",
    "        count+=1\n",
    "    print(count)"
   ]
  },
  {
   "cell_type": "code",
   "execution_count": null,
   "id": "738b00f1-9618-43e8-9851-01cfb89201d8",
   "metadata": {},
   "outputs": [
    {
     "name": "stdin",
     "output_type": "stream",
     "text": [
      "Please enter the number:  27\n"
     ]
    },
    {
     "name": "stdout",
     "output_type": "stream",
     "text": [
      "1\n"
     ]
    }
   ],
   "source": [
    "a=divide(int(input(\"Please enter the number: \")))"
   ]
  },
  {
   "cell_type": "code",
   "execution_count": null,
   "id": "03503dfb-3edd-41f1-9807-089ca3cb2e0e",
   "metadata": {},
   "outputs": [
    {
     "name": "stdin",
     "output_type": "stream",
     "text": [
      "Please enter the number:  45\n"
     ]
    },
    {
     "name": "stdout",
     "output_type": "stream",
     "text": [
      "2\n"
     ]
    }
   ],
   "source": [
    "a=divide(int(input(\"Please enter the number: \")))"
   ]
  },
  {
   "cell_type": "code",
   "execution_count": null,
   "id": "a3d403c0-d4cf-47df-ac15-ca99d3fe4c47",
   "metadata": {},
   "outputs": [
    {
     "name": "stdin",
     "output_type": "stream",
     "text": [
      "Please enter the number:  81\n"
     ]
    },
    {
     "name": "stdout",
     "output_type": "stream",
     "text": [
      "2\n"
     ]
    }
   ],
   "source": [
    "a=divide(int(input(\"Please enter the number: \")))"
   ]
  },
  {
   "cell_type": "code",
   "execution_count": null,
   "id": "864350bf-530f-4f24-a60a-13e0662b7b11",
   "metadata": {},
   "outputs": [
    {
     "name": "stdin",
     "output_type": "stream",
     "text": [
      "Please enter the number:  243\n"
     ]
    },
    {
     "name": "stdout",
     "output_type": "stream",
     "text": [
      "3\n"
     ]
    }
   ],
   "source": [
    "a=divide(int(input(\"Please enter the number: \")))"
   ]
  },
  {
   "cell_type": "markdown",
   "id": "a6cbdf24-9135-47a8-a0ff-9b92e2efa932",
   "metadata": {},
   "source": [
    "5. Why and when to use while loop in python give a detailed description with example"
   ]
  },
  {
   "cell_type": "markdown",
   "id": "223640ed-2871-460b-9bbb-964e944c3c8b",
   "metadata": {},
   "source": [
    "A \"while\" loop in Python is used when you want to repeat a block of code as long as a certain condition is true.\n",
    "The syntax of a while loop is as follows:\n",
    "\n",
    "    while condition:\n",
    "    # code to be executed\n",
    "\n",
    "The condition can be any expression that evaluates to either True or False. If the condition is True, the code within the loop will be executed. Once the code within the loop has been executed, the condition will be evaluated again, and the process will repeat until the condition becomes False.\n",
    "\n",
    "Here's an example of a while loop that prints the numbers from 1 to 10:\n",
    "    count = 1\n",
    "    while count <= 10:\n",
    "        print(count)\n",
    "        count += 1\n",
    "        \n",
    "This loop will start by evaluating the condition count <= 10, which is True. Since the condition is True, the code within the loop will be executed and the value of count will be printed. After printing the value, the value of count will be incremented by 1, and the condition will be evaluated again. This process will repeat until the condition count <= 10 becomes False.\n",
    "\n",
    "It's important to be careful when using a while loop, as the code within the loop could potentially run forever if the condition never becomes False. To avoid an infinite loop, it's a good idea to make sure that the condition will eventually become False."
   ]
  },
  {
   "cell_type": "markdown",
   "id": "62924b35-ed25-4b5d-bb58-c56c703c1973",
   "metadata": {},
   "source": [
    "6. Use nested while loop to print 3 different pattern."
   ]
  },
  {
   "cell_type": "markdown",
   "id": "05cd4958-ae86-425c-98db-462799c6351b",
   "metadata": {},
   "source": [
    "(A). Left Triangle pattern:"
   ]
  },
  {
   "cell_type": "code",
   "execution_count": null,
   "id": "516430e8-7b37-476e-aca1-3b08aea408dd",
   "metadata": {},
   "outputs": [
    {
     "name": "stdin",
     "output_type": "stream",
     "text": [
      "Enter the number of rows for the pattern:  10\n"
     ]
    }
   ],
   "source": [
    "rows = (int(input(\"Enter the number of rows for the pattern: \")))"
   ]
  },
  {
   "cell_type": "code",
   "execution_count": null,
   "id": "68a680e9-0484-4a39-87a9-c543c729a73d",
   "metadata": {},
   "outputs": [
    {
     "name": "stdout",
     "output_type": "stream",
     "text": [
      "*\n",
      "**\n",
      "***\n",
      "****\n",
      "*****\n",
      "******\n",
      "*******\n",
      "********\n",
      "*********\n",
      "**********\n"
     ]
    }
   ],
   "source": [
    "i=1\n",
    "while(i<=rows):\n",
    "    j=1\n",
    "    while(j<=i):\n",
    "        print(\"*\", end=\"\")\n",
    "        j=j+1\n",
    "    i=i+1\n",
    "    print(\"\")"
   ]
  },
  {
   "cell_type": "markdown",
   "id": "5d53f5f0-a807-468d-b58f-87835b15ea71",
   "metadata": {},
   "source": [
    "(B). Reverse Triangle Pattern: "
   ]
  },
  {
   "cell_type": "code",
   "execution_count": null,
   "id": "8bf9f85c-6194-42ac-ab5f-7203264f1af6",
   "metadata": {},
   "outputs": [
    {
     "name": "stdin",
     "output_type": "stream",
     "text": [
      "Enter the number of rows for the pattern:  10\n"
     ]
    }
   ],
   "source": [
    "rows = (int(input(\"Enter the number of rows for the pattern: \")))"
   ]
  },
  {
   "cell_type": "code",
   "execution_count": null,
   "id": "10646352-1b17-4383-9e7b-f6c9f1fa3d96",
   "metadata": {},
   "outputs": [
    {
     "name": "stdout",
     "output_type": "stream",
     "text": [
      "**********\n",
      "*********\n",
      "********\n",
      "*******\n",
      "******\n",
      "*****\n",
      "****\n",
      "***\n",
      "**\n",
      "*\n"
     ]
    }
   ],
   "source": [
    "i=1\n",
    "while(i<=rows):\n",
    "    j=rows\n",
    "    while(j>=i):\n",
    "        print(\"*\", end=\"\")\n",
    "        j=j-1\n",
    "    i=i+1\n",
    "    print(\"\")"
   ]
  },
  {
   "cell_type": "markdown",
   "id": "b373f3af-9dc9-4cfd-a2d6-9492154bdad6",
   "metadata": {},
   "source": [
    "(C). Triangle Pattern."
   ]
  },
  {
   "cell_type": "code",
   "execution_count": null,
   "id": "426bd5e0-21ff-4efe-ac43-cd02eb9a346a",
   "metadata": {},
   "outputs": [
    {
     "name": "stdin",
     "output_type": "stream",
     "text": [
      "Enter the number of rows for the pattern:  10\n"
     ]
    }
   ],
   "source": [
    "rows = (int(input(\"Enter the number of rows for the pattern: \")))"
   ]
  },
  {
   "cell_type": "code",
   "execution_count": null,
   "id": "5c561603-887a-4f7e-b1a6-aede7308059d",
   "metadata": {},
   "outputs": [
    {
     "name": "stdout",
     "output_type": "stream",
     "text": [
      "         *\n",
      "        ***\n",
      "       *****\n",
      "      *******\n",
      "     *********\n",
      "    ***********\n",
      "   *************\n",
      "  ***************\n",
      " *****************\n",
      "*******************\n"
     ]
    }
   ],
   "source": [
    "i = 1\n",
    "while i <= rows:\n",
    "    j = 1\n",
    "    while j <= rows - i:\n",
    "        print(\" \", end=\"\")\n",
    "        j += 1\n",
    "    k = 1\n",
    "    while k <= 2 * i - 1:\n",
    "        print(\"*\", end=\"\")\n",
    "        k += 1\n",
    "    print(\"\")\n",
    "    i += 1\n"
   ]
  },
  {
   "cell_type": "markdown",
   "id": "4c483961-2ec3-44b6-b45f-4e8bbdc6b20d",
   "metadata": {},
   "source": [
    "7. Reverse a while loop to display number from 10 to 1 "
   ]
  },
  {
   "cell_type": "code",
   "execution_count": 84,
   "id": "9cd940aa-592c-4f18-922d-e1b6cd93a26c",
   "metadata": {},
   "outputs": [
    {
     "name": "stdout",
     "output_type": "stream",
     "text": [
      "10  9  8  7  6  5  4  3  2  1  "
     ]
    }
   ],
   "source": [
    "i=10\n",
    "while(i>=1):\n",
    "    print(i,\" \", end=\"\")\n",
    "    i=i-1"
   ]
  },
  {
   "cell_type": "markdown",
   "id": "922fe34d-6b5b-4b88-86f1-fe4edfb5f05a",
   "metadata": {},
   "source": [
    "8. Reverse a while loop to display number from 10 to 1"
   ]
  },
  {
   "cell_type": "code",
   "execution_count": 85,
   "id": "8c062c96-e293-4f87-9711-b1fccb7af323",
   "metadata": {},
   "outputs": [
    {
     "name": "stdout",
     "output_type": "stream",
     "text": [
      "10  9  8  7  6  5  4  3  2  1  "
     ]
    }
   ],
   "source": [
    "i=10\n",
    "while(i>=1):\n",
    "    print(i,\" \", end=\"\")\n",
    "    i=i-1"
   ]
  }
 ],
 "metadata": {
  "kernelspec": {
   "display_name": "Python 3 (ipykernel)",
   "language": "python",
   "name": "python3"
  },
  "language_info": {
   "codemirror_mode": {
    "name": "ipython",
    "version": 3
   },
   "file_extension": ".py",
   "mimetype": "text/x-python",
   "name": "python",
   "nbconvert_exporter": "python",
   "pygments_lexer": "ipython3",
   "version": "3.10.8"
  }
 },
 "nbformat": 4,
 "nbformat_minor": 5
}
